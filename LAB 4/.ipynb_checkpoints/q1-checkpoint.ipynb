{
 "cells": [
  {
   "cell_type": "code",
   "execution_count": 1,
   "metadata": {},
   "outputs": [
    {
     "name": "stdout",
     "output_type": "stream",
     "text": [
      "3\n"
     ]
    }
   ],
   "source": [
    "myTuple = (\"apple\", \"mango\", \"banana\")\n",
    "print(len(myTuple))"
   ]
  },
  {
   "cell_type": "code",
   "execution_count": 3,
   "metadata": {},
   "outputs": [
    {
     "name": "stdout",
     "output_type": "stream",
     "text": [
      "<class 'tuple'>\n"
     ]
    }
   ],
   "source": [
    "t = (\"berry\",)\n",
    "print(type(t))"
   ]
  },
  {
   "cell_type": "code",
   "execution_count": 5,
   "metadata": {},
   "outputs": [
    {
     "ename": "AttributeError",
     "evalue": "'tuple' object has no attribute 'append'",
     "output_type": "error",
     "traceback": [
      "\u001b[1;31m---------------------------------------------------------------------------\u001b[0m",
      "\u001b[1;31mAttributeError\u001b[0m                            Traceback (most recent call last)",
      "Cell \u001b[1;32mIn[5], line 2\u001b[0m\n\u001b[0;32m      1\u001b[0m myTuple \u001b[38;5;241m=\u001b[39m (\u001b[38;5;124m\"\u001b[39m\u001b[38;5;124mapple\u001b[39m\u001b[38;5;124m\"\u001b[39m, \u001b[38;5;124m\"\u001b[39m\u001b[38;5;124mmango\u001b[39m\u001b[38;5;124m\"\u001b[39m, \u001b[38;5;124m\"\u001b[39m\u001b[38;5;124mbanana\u001b[39m\u001b[38;5;124m\"\u001b[39m)\n\u001b[1;32m----> 2\u001b[0m myTuple\u001b[38;5;241m.\u001b[39mappend(\u001b[38;5;124m\"\u001b[39m\u001b[38;5;124mcherry\u001b[39m\u001b[38;5;124m\"\u001b[39m)\n\u001b[0;32m      3\u001b[0m \u001b[38;5;28mprint\u001b[39m(myTuple)\n",
      "\u001b[1;31mAttributeError\u001b[0m: 'tuple' object has no attribute 'append'"
     ]
    }
   ],
   "source": [
    "myTuple = (\"apple\", \"mango\", \"banana\")\n",
    "myTuple.append(\"cherry\")\n",
    "print(myTuple)"
   ]
  },
  {
   "cell_type": "code",
   "execution_count": 6,
   "metadata": {},
   "outputs": [
    {
     "name": "stdout",
     "output_type": "stream",
     "text": [
      "('apple', 'mango', 'banana', 'cherry')\n"
     ]
    }
   ],
   "source": [
    "myTuple = (\"apple\", \"mango\", \"banana\")\n",
    "y = list(myTuple)\n",
    "y.append(\"cherry\")\n",
    "myTuple = tuple(y)\n",
    "print(myTuple)"
   ]
  },
  {
   "cell_type": "code",
   "execution_count": 7,
   "metadata": {},
   "outputs": [
    {
     "name": "stdout",
     "output_type": "stream",
     "text": [
      "apple\n",
      "mango\n",
      "banana\n"
     ]
    }
   ],
   "source": [
    "mytuple = (\"apple\", \"mango\", \"banana\")\n",
    "(green, yellow, red) = mytuple\n",
    "print(green)\n",
    "print(yellow)\n",
    "print(red)"
   ]
  },
  {
   "cell_type": "code",
   "execution_count": 9,
   "metadata": {},
   "outputs": [
    {
     "name": "stdout",
     "output_type": "stream",
     "text": [
      "apple\n",
      "mango\n",
      "['banana', 'kiwi', 'orange', 'cherry']\n"
     ]
    }
   ],
   "source": [
    "mytuple = (\"apple\", \"mango\", \"banana\", \"kiwi\", \"orange\", \"cherry\")\n",
    "(green, yellow, *red) = mytuple\n",
    "print(green)\n",
    "print(yellow)\n",
    "print(red)"
   ]
  },
  {
   "cell_type": "code",
   "execution_count": 10,
   "metadata": {},
   "outputs": [
    {
     "name": "stdout",
     "output_type": "stream",
     "text": [
      "apple\n",
      "['mango', 'banana', 'kiwi', 'orange']\n",
      "cherry\n"
     ]
    }
   ],
   "source": [
    "mytuple = (\"apple\", \"mango\", \"banana\", \"kiwi\", \"orange\", \"cherry\")\n",
    "(green, *yellow, red) = mytuple\n",
    "print(green)\n",
    "print(yellow)\n",
    "print(red)"
   ]
  },
  {
   "cell_type": "code",
   "execution_count": 13,
   "metadata": {},
   "outputs": [
    {
     "name": "stdout",
     "output_type": "stream",
     "text": [
      "{'cherry', 'apple', 'mango', 'orange', 'kiwi', 'banana'}\n"
     ]
    }
   ],
   "source": [
    "#Doesnt Print multiple values\n",
    "myset = {\"apple\", \"mango\", \"banana\", \"mango\", \"kiwi\", \"orange\", \"cherry\"}\n",
    "print(myset)"
   ]
  },
  {
   "cell_type": "code",
   "execution_count": 15,
   "metadata": {},
   "outputs": [
    {
     "name": "stdout",
     "output_type": "stream",
     "text": [
      "{'banana', 'cherry', 'orange', 'apple'}\n"
     ]
    }
   ],
   "source": [
    "thisset = {\"apple\", \"banana\", \"cherry\"}\n",
    "thisset.add(\"orange\")\n",
    "print(thisset)"
   ]
  },
  {
   "cell_type": "code",
   "execution_count": 17,
   "metadata": {},
   "outputs": [
    {
     "name": "stdout",
     "output_type": "stream",
     "text": [
      "{'apple', 'cherry', 'mango', 'pineapple', 'papaya', 'banana'}\n"
     ]
    }
   ],
   "source": [
    "thisset = {\"apple\", \"mango\", \"cherry\"}\n",
    "tropical = {\"pineapple\", \"papaya\", \"banana\"}\n",
    "thisset.update(tropical)\n",
    "print(thisset)"
   ]
  },
  {
   "cell_type": "code",
   "execution_count": 18,
   "metadata": {},
   "outputs": [
    {
     "name": "stdout",
     "output_type": "stream",
     "text": [
      "{1, 2, 3, 'b', 'c', 'a'}\n"
     ]
    }
   ],
   "source": [
    "set1 = {\"a\", \"b\", \"c\"}\n",
    "set2 = {1, 2, 3}\n",
    "set1.update(set2)\n",
    "print(set1)"
   ]
  },
  {
   "cell_type": "code",
   "execution_count": 19,
   "metadata": {},
   "outputs": [
    {
     "name": "stdout",
     "output_type": "stream",
     "text": [
      "{'banana', 'cherry', ' microsoft', 'google'}\n"
     ]
    }
   ],
   "source": [
    "x = {\"apple\", \"banana\", \"cherry\"}\n",
    "y = {\"google\", \" microsoft\", \"apple\"}\n",
    "x.symmetric_difference_update(y)\n",
    "print(x)"
   ]
  },
  {
   "cell_type": "markdown",
   "metadata": {},
   "source": [
    "# Dictionary\n",
    "\n",
    "Dictionary is another type of collection which uses two values, like key and value. It is used to store data values in key value pairs. Dictionary is a collection which is unordered, changeable and doesn't allow duplicate values. They are Written with curly brackets and have key and value."
   ]
  },
  {
   "cell_type": "code",
   "execution_count": 20,
   "metadata": {},
   "outputs": [
    {
     "name": "stdout",
     "output_type": "stream",
     "text": [
      "{'brand': 'Maruti', 'model': 'Swift', 'year': 2020}\n"
     ]
    }
   ],
   "source": [
    "mydict = {\n",
    "    \"brand\" : \"Maruti\",\n",
    "    \"model\" : \"Swift\",\n",
    "    \"year\" : 2020\n",
    "}\n",
    "print(mydict)"
   ]
  },
  {
   "cell_type": "code",
   "execution_count": 22,
   "metadata": {},
   "outputs": [
    {
     "name": "stdout",
     "output_type": "stream",
     "text": [
      "Maruti\n"
     ]
    }
   ],
   "source": [
    "mydict = {\n",
    "    \"brand\" : \"Maruti\",\n",
    "    \"model\" : \"Swift\",\n",
    "    \"year\" : 2020\n",
    "}\n",
    "print(mydict[\"brand\"])"
   ]
  },
  {
   "cell_type": "code",
   "execution_count": 23,
   "metadata": {},
   "outputs": [
    {
     "name": "stdout",
     "output_type": "stream",
     "text": [
      "{'brand': 'Maruti', 'model': 'Swift', 'year': 2021}\n"
     ]
    }
   ],
   "source": [
    "mydict = {\n",
    "    \"brand\" : \"Maruti\",\n",
    "    \"model\" : \"Swift\",\n",
    "    \"year\" : 2020,\n",
    "    \"year\" : 2021,\n",
    "}\n",
    "print(mydict)"
   ]
  },
  {
   "cell_type": "code",
   "execution_count": 24,
   "metadata": {},
   "outputs": [
    {
     "name": "stdout",
     "output_type": "stream",
     "text": [
      "3\n"
     ]
    }
   ],
   "source": [
    "print(len(mydict))"
   ]
  },
  {
   "cell_type": "code",
   "execution_count": 25,
   "metadata": {},
   "outputs": [
    {
     "name": "stdout",
     "output_type": "stream",
     "text": [
      "{'brand': 'Maruti', 'model': 'Swift', 'year': 2020, 'electric': False, 'color': ['red', 'white', 'blue']}\n"
     ]
    }
   ],
   "source": [
    "mydict = {\n",
    "    \"brand\" : \"Maruti\",\n",
    "    \"model\" : \"Swift\",\n",
    "    \"year\" : 2020,\n",
    "    \"electric\" : False,\n",
    "    \"color\" : [\"red\", \"white\", \"blue\"]\n",
    "}\n",
    "print(mydict)"
   ]
  },
  {
   "cell_type": "code",
   "execution_count": 26,
   "metadata": {},
   "outputs": [
    {
     "name": "stdout",
     "output_type": "stream",
     "text": [
      "<class 'dict'>\n"
     ]
    }
   ],
   "source": [
    "print(type(mydict))"
   ]
  },
  {
   "cell_type": "code",
   "execution_count": 27,
   "metadata": {},
   "outputs": [
    {
     "name": "stdout",
     "output_type": "stream",
     "text": [
      "Swift\n"
     ]
    }
   ],
   "source": [
    "x = mydict[\"model\"]\n",
    "print(x)"
   ]
  },
  {
   "cell_type": "code",
   "execution_count": 28,
   "metadata": {},
   "outputs": [
    {
     "name": "stdout",
     "output_type": "stream",
     "text": [
      "Swift\n"
     ]
    }
   ],
   "source": [
    "x = mydict.get(\"model\")\n",
    "print(x)"
   ]
  },
  {
   "cell_type": "code",
   "execution_count": 29,
   "metadata": {},
   "outputs": [
    {
     "name": "stdout",
     "output_type": "stream",
     "text": [
      "dict_keys(['brand', 'model', 'year', 'electric', 'color'])\n"
     ]
    }
   ],
   "source": [
    "x = mydict.keys()\n",
    "print(x)"
   ]
  },
  {
   "cell_type": "code",
   "execution_count": 30,
   "metadata": {},
   "outputs": [
    {
     "name": "stdout",
     "output_type": "stream",
     "text": [
      "dict_values(['Maruti', 'Swift', 2020, False, ['red', 'white', 'blue']])\n"
     ]
    }
   ],
   "source": [
    "x = mydict.values()\n",
    "print(x)"
   ]
  },
  {
   "cell_type": "code",
   "execution_count": 32,
   "metadata": {},
   "outputs": [
    {
     "name": "stdout",
     "output_type": "stream",
     "text": [
      "No\n"
     ]
    }
   ],
   "source": [
    "mydict = {\n",
    "    \"brand\" : \"Maruti\",\n",
    "    \"model\" : \"Swift\",\n",
    "    \"year\" : 2020\n",
    "}\n",
    "\n",
    "if \"name\" in mydict:\n",
    "    print(\"Yes: This is one of the key\")\n",
    "else:\n",
    "    print(\"No\")"
   ]
  },
  {
   "cell_type": "code",
   "execution_count": 33,
   "metadata": {},
   "outputs": [
    {
     "name": "stdout",
     "output_type": "stream",
     "text": [
      "Yes: This is one of the key\n"
     ]
    }
   ],
   "source": [
    "mydict = {\n",
    "    \"brand\" : \"Maruti\",\n",
    "    \"model\" : \"Swift\",\n",
    "    \"year\" : 2020\n",
    "}\n",
    "\n",
    "if \"model\" in mydict:\n",
    "    print(\"Yes: This is one of the key\")\n",
    "else:\n",
    "    print(\"No\")"
   ]
  },
  {
   "cell_type": "code",
   "execution_count": 34,
   "metadata": {},
   "outputs": [
    {
     "name": "stdout",
     "output_type": "stream",
     "text": [
      "dict_keys(['brand', 'model', 'year'])\n",
      "dict_keys(['brand', 'model', 'year', 'color'])\n"
     ]
    }
   ],
   "source": [
    "mydict = {\n",
    "    \"brand\" : \"Maruti\",\n",
    "    \"model\" : \"Swift\",\n",
    "    \"year\" : 2020\n",
    "}\n",
    "\n",
    "x = mydict.keys()\n",
    "print(x)\n",
    "mydict[\"color\"] = \"White\"\n",
    "print(x)"
   ]
  },
  {
   "cell_type": "code",
   "execution_count": 35,
   "metadata": {},
   "outputs": [
    {
     "name": "stdout",
     "output_type": "stream",
     "text": [
      "{'brand': 'Maruti', 'model': 'Swift', 'year': 2018, 'color': 'White'}\n"
     ]
    }
   ],
   "source": [
    "mydict[\"year\"] = 2018\n",
    "print(mydict)"
   ]
  },
  {
   "cell_type": "code",
   "execution_count": 37,
   "metadata": {},
   "outputs": [
    {
     "name": "stdout",
     "output_type": "stream",
     "text": [
      "{'brand': 'Maruti', 'model': 'Swift', 'year': 2015, 'color': 'White'}\n"
     ]
    }
   ],
   "source": [
    "mydict.update({\"year\" : 2015})\n",
    "print(mydict)"
   ]
  },
  {
   "cell_type": "code",
   "execution_count": 38,
   "metadata": {},
   "outputs": [
    {
     "name": "stdout",
     "output_type": "stream",
     "text": [
      "{'brand': 'Maruti', 'model': 'Swift'}\n"
     ]
    }
   ],
   "source": [
    "mydict = {\n",
    "    \"brand\" : \"Maruti\",\n",
    "    \"model\" : \"Swift\",\n",
    "    \"year\" : 2020\n",
    "}\n",
    "\n",
    "mydict.popitem()\n",
    "print(mydict)"
   ]
  },
  {
   "cell_type": "code",
   "execution_count": 39,
   "metadata": {},
   "outputs": [
    {
     "name": "stdout",
     "output_type": "stream",
     "text": [
      "{'brand': 'Maruti', 'year': 2020}\n"
     ]
    }
   ],
   "source": [
    "mydict = {\n",
    "    \"brand\" : \"Maruti\",\n",
    "    \"model\" : \"Swift\",\n",
    "    \"year\" : 2020\n",
    "}\n",
    "\n",
    "del mydict[\"model\"]\n",
    "print(mydict)"
   ]
  },
  {
   "cell_type": "code",
   "execution_count": 43,
   "metadata": {},
   "outputs": [
    {
     "ename": "NameError",
     "evalue": "name 'mydict' is not defined",
     "output_type": "error",
     "traceback": [
      "\u001b[1;31m---------------------------------------------------------------------------\u001b[0m",
      "\u001b[1;31mNameError\u001b[0m                                 Traceback (most recent call last)",
      "Cell \u001b[1;32mIn[43], line 8\u001b[0m\n\u001b[0;32m      1\u001b[0m mydict \u001b[38;5;241m=\u001b[39m {\n\u001b[0;32m      2\u001b[0m     \u001b[38;5;124m\"\u001b[39m\u001b[38;5;124mbrand\u001b[39m\u001b[38;5;124m\"\u001b[39m : \u001b[38;5;124m\"\u001b[39m\u001b[38;5;124mMaruti\u001b[39m\u001b[38;5;124m\"\u001b[39m,\n\u001b[0;32m      3\u001b[0m     \u001b[38;5;124m\"\u001b[39m\u001b[38;5;124mmodel\u001b[39m\u001b[38;5;124m\"\u001b[39m : \u001b[38;5;124m\"\u001b[39m\u001b[38;5;124mSwift\u001b[39m\u001b[38;5;124m\"\u001b[39m,\n\u001b[0;32m      4\u001b[0m     \u001b[38;5;124m\"\u001b[39m\u001b[38;5;124myear\u001b[39m\u001b[38;5;124m\"\u001b[39m : \u001b[38;5;241m2020\u001b[39m\n\u001b[0;32m      5\u001b[0m }\n\u001b[0;32m      7\u001b[0m \u001b[38;5;28;01mdel\u001b[39;00m mydict\n\u001b[1;32m----> 8\u001b[0m \u001b[38;5;28mprint\u001b[39m(mydict)\n",
      "\u001b[1;31mNameError\u001b[0m: name 'mydict' is not defined"
     ]
    }
   ],
   "source": [
    "mydict = {\n",
    "    \"brand\" : \"Maruti\",\n",
    "    \"model\" : \"Swift\",\n",
    "    \"year\" : 2020\n",
    "}\n",
    "\n",
    "del mydict\n",
    "print(mydict)"
   ]
  },
  {
   "cell_type": "code",
   "execution_count": 41,
   "metadata": {},
   "outputs": [
    {
     "name": "stdout",
     "output_type": "stream",
     "text": [
      "{}\n"
     ]
    }
   ],
   "source": [
    "mydict = {\n",
    "    \"brand\" : \"Maruti\",\n",
    "    \"model\" : \"Swift\",\n",
    "    \"year\" : 2020\n",
    "}\n",
    "\n",
    "mydict.clear()\n",
    "print(mydict)"
   ]
  },
  {
   "cell_type": "code",
   "execution_count": 44,
   "metadata": {},
   "outputs": [
    {
     "name": "stdout",
     "output_type": "stream",
     "text": [
      "brand\n",
      "model\n",
      "year\n"
     ]
    }
   ],
   "source": [
    "mydict = {\n",
    "    \"brand\" : \"Maruti\",\n",
    "    \"model\" : \"Swift\",\n",
    "    \"year\" : 2020\n",
    "}\n",
    "\n",
    "for x in mydict:\n",
    "    print(x)"
   ]
  },
  {
   "cell_type": "code",
   "execution_count": 48,
   "metadata": {},
   "outputs": [
    {
     "name": "stdout",
     "output_type": "stream",
     "text": [
      "Maruti\n",
      "Swift\n",
      "2020\n"
     ]
    }
   ],
   "source": [
    "for x in mydict:\n",
    "    print(mydict[x])"
   ]
  },
  {
   "cell_type": "code",
   "execution_count": 49,
   "metadata": {},
   "outputs": [
    {
     "name": "stdout",
     "output_type": "stream",
     "text": [
      "brand\n",
      "model\n",
      "year\n"
     ]
    }
   ],
   "source": [
    "for x in mydict.keys():\n",
    "    print(x)"
   ]
  },
  {
   "cell_type": "code",
   "execution_count": 50,
   "metadata": {},
   "outputs": [
    {
     "name": "stdout",
     "output_type": "stream",
     "text": [
      "brand Maruti\n",
      "model Swift\n",
      "year 2020\n"
     ]
    }
   ],
   "source": [
    "for x,y in mydict.items():\n",
    "    print(x,y)"
   ]
  },
  {
   "cell_type": "code",
   "execution_count": 51,
   "metadata": {},
   "outputs": [
    {
     "name": "stdout",
     "output_type": "stream",
     "text": [
      "{'brand': 'Maruti', 'model': 'Swift', 'year': 2020}\n"
     ]
    }
   ],
   "source": [
    "mydict2 = mydict.copy()\n",
    "print(mydict2)"
   ]
  },
  {
   "cell_type": "code",
   "execution_count": 53,
   "metadata": {},
   "outputs": [
    {
     "name": "stdout",
     "output_type": "stream",
     "text": [
      "{'brand': 'Maruti', 'model': 'Swift', 'year': 2020}\n"
     ]
    }
   ],
   "source": [
    "mydict2 = dict(mydict)\n",
    "print(mydict2)"
   ]
  },
  {
   "cell_type": "code",
   "execution_count": 54,
   "metadata": {},
   "outputs": [
    {
     "name": "stdout",
     "output_type": "stream",
     "text": [
      "{'child1': {'name': 'Utkrist', 'year': 2001}, 'child2': {'name': 'Jaiswal', 'year': 2002}}\n"
     ]
    }
   ],
   "source": [
    "myfamily = {\n",
    "    \"child1\" : {\n",
    "        \"name\" : \"Utkrist\",\n",
    "        \"year\" : 2001\n",
    "    },\n",
    "    \"child2\" : {\n",
    "        \"name\" : \"Jaiswal\",\n",
    "        \"year\" : 2002\n",
    "    }\n",
    "}\n",
    "\n",
    "print(myfamily)"
   ]
  },
  {
   "cell_type": "markdown",
   "metadata": {},
   "source": [
    "# Question 1\n",
    "Python program to find the sum of all items in a dictionary"
   ]
  },
  {
   "cell_type": "code",
   "execution_count": 75,
   "metadata": {},
   "outputs": [
    {
     "name": "stdout",
     "output_type": "stream",
     "text": [
      "Sum is: 105\n"
     ]
    }
   ],
   "source": [
    "mydict = {\n",
    "    \"a\" : 10, \n",
    "    \"b\" : 20, \n",
    "    \"c\" : 30,\n",
    "    \"d\" : 45\n",
    "}\n",
    "result = sum(mydict.values())\n",
    "\n",
    "print(\"Sum is:\", result)"
   ]
  },
  {
   "cell_type": "markdown",
   "metadata": {},
   "source": [
    "# Question 2\n",
    "Python program to find the size of a Dictionary"
   ]
  },
  {
   "cell_type": "code",
   "execution_count": 76,
   "metadata": {},
   "outputs": [
    {
     "name": "stdout",
     "output_type": "stream",
     "text": [
      "Size is: 4\n"
     ]
    }
   ],
   "source": [
    "mydict = {\n",
    "    'a': 10, \n",
    "    'b': 20, \n",
    "    'c': 30,\n",
    "    \"d\" : 255\n",
    "}\n",
    "\n",
    "print(\"Size is:\", len(mydict))"
   ]
  },
  {
   "cell_type": "markdown",
   "metadata": {},
   "source": [
    "# Question 3\n",
    "Python program to Sort Dictionaries by Key or Value"
   ]
  },
  {
   "cell_type": "code",
   "execution_count": 77,
   "metadata": {},
   "outputs": [
    {
     "name": "stdout",
     "output_type": "stream",
     "text": [
      "[10, 20, 30, 255]\n",
      "['a', 'b', 'c', 'd']\n"
     ]
    }
   ],
   "source": [
    "mydict = {\n",
    "    'b': 20, \n",
    "    'a': 10, \n",
    "    'c': 30,\n",
    "    \"d\" : 255\n",
    "}\n",
    "\n",
    "x = sorted(mydict.values())\n",
    "print(x)\n",
    "\n",
    "y = sorted(mydict.keys())\n",
    "print(y)"
   ]
  },
  {
   "cell_type": "markdown",
   "metadata": {},
   "source": [
    "# Question 4\n",
    "Sort list of dictionaries by values in Python – Using lambda function"
   ]
  },
  {
   "cell_type": "code",
   "execution_count": 82,
   "metadata": {},
   "outputs": [
    {
     "name": "stdout",
     "output_type": "stream",
     "text": [
      "Sorted by values: [{'key': 'a', 'value': 10}, {'key': 'b', 'value': 20}, {'key': 'c', 'value': 30}]\n"
     ]
    }
   ],
   "source": [
    "mydicts = [\n",
    "    {'key': 'b', 'value': 20},\n",
    "    {'key': 'a', 'value': 10},\n",
    "    {'key': 'c', 'value': 30}\n",
    "]\n",
    "\n",
    "sorted_list_by_values = sorted(mydicts, key = lambda x: x[\"value\"])\n",
    "print(\"Sorted by values:\", sorted_list_by_values)\n"
   ]
  },
  {
   "cell_type": "markdown",
   "metadata": {},
   "source": [
    "# Question 5\n",
    "Program to Merge two Dictionaries"
   ]
  },
  {
   "cell_type": "code",
   "execution_count": 85,
   "metadata": {},
   "outputs": [
    {
     "name": "stdout",
     "output_type": "stream",
     "text": [
      "Merged dictionary: {'a': 10, 'b': 30, 'c': 40, 'd': 11}\n"
     ]
    }
   ],
   "source": [
    "dict1 = {\n",
    "    'a': 10, \n",
    "    'b': 20\n",
    "}\n",
    "\n",
    "dict2 = {\n",
    "    'b': 30, \n",
    "    'c': 40,\n",
    "    'd' : 11\n",
    "}\n",
    "\n",
    "merged_dict = dict1.copy()\n",
    "merged_dict.update(dict2)\n",
    "\n",
    "print(\"Merged dictionary:\", merged_dict)\n"
   ]
  },
  {
   "cell_type": "markdown",
   "metadata": {},
   "source": [
    "# Question 6\n",
    "Program to Find all duplicate characters in string"
   ]
  },
  {
   "cell_type": "code",
   "execution_count": 88,
   "metadata": {},
   "outputs": [
    {
     "name": "stdout",
     "output_type": "stream",
     "text": [
      "['l']\n"
     ]
    }
   ],
   "source": [
    "str = \"Volley Ball\"\n",
    "\n",
    "charCount = {}\n",
    "duplicates = []\n",
    "\n",
    "for char in str:\n",
    "    charCount[char] = charCount.get(char, 0) + 1\n",
    "    \n",
    "for char, count in charCount.items():\n",
    "    if count > 1:\n",
    "        duplicates.append(char)\n",
    "\n",
    "print(duplicates)"
   ]
  },
  {
   "cell_type": "markdown",
   "metadata": {},
   "source": [
    "# Question 7\n",
    "Program to Replace String by Kth Dictionary value"
   ]
  },
  {
   "cell_type": "code",
   "execution_count": 100,
   "metadata": {},
   "outputs": [
    {
     "name": "stdout",
     "output_type": "stream",
     "text": [
      "John Welcome to New York\n"
     ]
    }
   ],
   "source": [
    "replacementDict = {\n",
    "    'name': 'John', \n",
    "    'city': 'New York'\n",
    "}\n",
    "\n",
    "instri = \"name city\"\n",
    "words=instri.split()\n",
    "for i in range(len(words)):\n",
    "    if words[i] in replacementDict:\n",
    "        words[i]=replacementDict[words[i]]\n",
    "        \n",
    "outstri=\" Welcome to \".join(words)\n",
    "print(outstri)\n"
   ]
  },
  {
   "cell_type": "markdown",
   "metadata": {},
   "source": [
    "# Question 8\n",
    "Python | Remove all duplicates words from a given sentence"
   ]
  },
  {
   "cell_type": "code",
   "execution_count": 102,
   "metadata": {},
   "outputs": [
    {
     "name": "stdout",
     "output_type": "stream",
     "text": [
      "Utkrist I Jaiswal am\n"
     ]
    }
   ],
   "source": [
    "sentence = \"I am Utkrist Jaiswal I am Utkrist Jaiswal\"\n",
    "unique_words = set(sentence.split())\n",
    "unique_sentence = \" \".join(unique_words)\n",
    "print(unique_sentence)"
   ]
  },
  {
   "cell_type": "markdown",
   "metadata": {},
   "source": [
    "# Question 9\n",
    "Program to Coun the frequencies in a list using dictionary in Python"
   ]
  },
  {
   "cell_type": "code",
   "execution_count": 103,
   "metadata": {},
   "outputs": [
    {
     "name": "stdout",
     "output_type": "stream",
     "text": [
      "1: 3\n",
      "2: 2\n",
      "3: 2\n",
      "4: 2\n",
      "5: 2\n",
      "6: 1\n",
      "7: 3\n"
     ]
    }
   ],
   "source": [
    "lst = [1, 2, 3, 1, 2, 1, 4, 5, 4, 3, 5, 6, 7, 7, 7]\n",
    "\n",
    "frequency_dict = {}\n",
    "\n",
    "for element in lst:\n",
    "\n",
    "    if element in frequency_dict:\n",
    "\n",
    "        frequency_dict[element] += 1\n",
    "    else:\n",
    "        frequency_dict[element] = 1\n",
    "        \n",
    "for key, value in frequency_dict.items():\n",
    "    print(f\"{key}: {value}\")"
   ]
  },
  {
   "cell_type": "markdown",
   "metadata": {},
   "source": [
    "# Question 10\n",
    "Program to create grade calculator in Python using dictionary"
   ]
  },
  {
   "cell_type": "code",
   "execution_count": 107,
   "metadata": {},
   "outputs": [
    {
     "name": "stdout",
     "output_type": "stream",
     "text": [
      "C\n"
     ]
    }
   ],
   "source": [
    "ranges = {\n",
    "    (0, 39) : \"F\",\n",
    "    (40, 59) : \"E\",\n",
    "    (60, 69) : \"D\",\n",
    "    (70, 79) : \"C\",\n",
    "    (80, 89) : \"B\",\n",
    "    (90, 100) : \"A\"\n",
    "}\n",
    "\n",
    "mygrades=[95,89,56,50,90]\n",
    "avggrade=sum(mygrades)/len(mygrades)\n",
    "\n",
    "for range_, lettergrade in ranges.items():\n",
    "    if range_[0] <= avggrade <= range_[1]:\n",
    "        finalgrade=lettergrade\n",
    "        break\n",
    "    else:\n",
    "        finalgrade=\"Invalid\"\n",
    "        \n",
    "print(finalgrade)"
   ]
  }
 ],
 "metadata": {
  "kernelspec": {
   "display_name": "Python 3 (ipykernel)",
   "language": "python",
   "name": "python3"
  },
  "language_info": {
   "codemirror_mode": {
    "name": "ipython",
    "version": 3
   },
   "file_extension": ".py",
   "mimetype": "text/x-python",
   "name": "python",
   "nbconvert_exporter": "python",
   "pygments_lexer": "ipython3",
   "version": "3.11.5"
  }
 },
 "nbformat": 4,
 "nbformat_minor": 2
}
