{
 "cells": [
  {
   "cell_type": "code",
   "execution_count": 2,
   "id": "c374e7dc",
   "metadata": {},
   "outputs": [],
   "source": [
    "# Pandas Test\n",
    "# Name - Utkrist Jaiswal\n",
    "# Roll - 21051526\n",
    "# Sec - CSE-36"
   ]
  },
  {
   "cell_type": "code",
   "execution_count": 3,
   "id": "66459ed5",
   "metadata": {},
   "outputs": [
    {
     "ename": "FileNotFoundError",
     "evalue": "[Errno 2] No such file or directory: 'bluegills.csv'",
     "output_type": "error",
     "traceback": [
      "\u001b[1;31m---------------------------------------------------------------------------\u001b[0m",
      "\u001b[1;31mFileNotFoundError\u001b[0m                         Traceback (most recent call last)",
      "Cell \u001b[1;32mIn[3], line 2\u001b[0m\n\u001b[0;32m      1\u001b[0m \u001b[38;5;28;01mimport\u001b[39;00m \u001b[38;5;21;01mpandas\u001b[39;00m \u001b[38;5;28;01mas\u001b[39;00m \u001b[38;5;21;01mpd\u001b[39;00m\n\u001b[1;32m----> 2\u001b[0m df \u001b[38;5;241m=\u001b[39m pd\u001b[38;5;241m.\u001b[39mread_csv(\u001b[38;5;124m\"\u001b[39m\u001b[38;5;124mbluegills.csv\u001b[39m\u001b[38;5;124m\"\u001b[39m)\n",
      "File \u001b[1;32mc:\\Users\\KIIT\\anaconda3\\Lib\\site-packages\\pandas\\io\\parsers\\readers.py:912\u001b[0m, in \u001b[0;36mread_csv\u001b[1;34m(filepath_or_buffer, sep, delimiter, header, names, index_col, usecols, dtype, engine, converters, true_values, false_values, skipinitialspace, skiprows, skipfooter, nrows, na_values, keep_default_na, na_filter, verbose, skip_blank_lines, parse_dates, infer_datetime_format, keep_date_col, date_parser, date_format, dayfirst, cache_dates, iterator, chunksize, compression, thousands, decimal, lineterminator, quotechar, quoting, doublequote, escapechar, comment, encoding, encoding_errors, dialect, on_bad_lines, delim_whitespace, low_memory, memory_map, float_precision, storage_options, dtype_backend)\u001b[0m\n\u001b[0;32m    899\u001b[0m kwds_defaults \u001b[38;5;241m=\u001b[39m _refine_defaults_read(\n\u001b[0;32m    900\u001b[0m     dialect,\n\u001b[0;32m    901\u001b[0m     delimiter,\n\u001b[1;32m   (...)\u001b[0m\n\u001b[0;32m    908\u001b[0m     dtype_backend\u001b[38;5;241m=\u001b[39mdtype_backend,\n\u001b[0;32m    909\u001b[0m )\n\u001b[0;32m    910\u001b[0m kwds\u001b[38;5;241m.\u001b[39mupdate(kwds_defaults)\n\u001b[1;32m--> 912\u001b[0m \u001b[38;5;28;01mreturn\u001b[39;00m _read(filepath_or_buffer, kwds)\n",
      "File \u001b[1;32mc:\\Users\\KIIT\\anaconda3\\Lib\\site-packages\\pandas\\io\\parsers\\readers.py:577\u001b[0m, in \u001b[0;36m_read\u001b[1;34m(filepath_or_buffer, kwds)\u001b[0m\n\u001b[0;32m    574\u001b[0m _validate_names(kwds\u001b[38;5;241m.\u001b[39mget(\u001b[38;5;124m\"\u001b[39m\u001b[38;5;124mnames\u001b[39m\u001b[38;5;124m\"\u001b[39m, \u001b[38;5;28;01mNone\u001b[39;00m))\n\u001b[0;32m    576\u001b[0m \u001b[38;5;66;03m# Create the parser.\u001b[39;00m\n\u001b[1;32m--> 577\u001b[0m parser \u001b[38;5;241m=\u001b[39m TextFileReader(filepath_or_buffer, \u001b[38;5;241m*\u001b[39m\u001b[38;5;241m*\u001b[39mkwds)\n\u001b[0;32m    579\u001b[0m \u001b[38;5;28;01mif\u001b[39;00m chunksize \u001b[38;5;129;01mor\u001b[39;00m iterator:\n\u001b[0;32m    580\u001b[0m     \u001b[38;5;28;01mreturn\u001b[39;00m parser\n",
      "File \u001b[1;32mc:\\Users\\KIIT\\anaconda3\\Lib\\site-packages\\pandas\\io\\parsers\\readers.py:1407\u001b[0m, in \u001b[0;36mTextFileReader.__init__\u001b[1;34m(self, f, engine, **kwds)\u001b[0m\n\u001b[0;32m   1404\u001b[0m     \u001b[38;5;28mself\u001b[39m\u001b[38;5;241m.\u001b[39moptions[\u001b[38;5;124m\"\u001b[39m\u001b[38;5;124mhas_index_names\u001b[39m\u001b[38;5;124m\"\u001b[39m] \u001b[38;5;241m=\u001b[39m kwds[\u001b[38;5;124m\"\u001b[39m\u001b[38;5;124mhas_index_names\u001b[39m\u001b[38;5;124m\"\u001b[39m]\n\u001b[0;32m   1406\u001b[0m \u001b[38;5;28mself\u001b[39m\u001b[38;5;241m.\u001b[39mhandles: IOHandles \u001b[38;5;241m|\u001b[39m \u001b[38;5;28;01mNone\u001b[39;00m \u001b[38;5;241m=\u001b[39m \u001b[38;5;28;01mNone\u001b[39;00m\n\u001b[1;32m-> 1407\u001b[0m \u001b[38;5;28mself\u001b[39m\u001b[38;5;241m.\u001b[39m_engine \u001b[38;5;241m=\u001b[39m \u001b[38;5;28mself\u001b[39m\u001b[38;5;241m.\u001b[39m_make_engine(f, \u001b[38;5;28mself\u001b[39m\u001b[38;5;241m.\u001b[39mengine)\n",
      "File \u001b[1;32mc:\\Users\\KIIT\\anaconda3\\Lib\\site-packages\\pandas\\io\\parsers\\readers.py:1661\u001b[0m, in \u001b[0;36mTextFileReader._make_engine\u001b[1;34m(self, f, engine)\u001b[0m\n\u001b[0;32m   1659\u001b[0m     \u001b[38;5;28;01mif\u001b[39;00m \u001b[38;5;124m\"\u001b[39m\u001b[38;5;124mb\u001b[39m\u001b[38;5;124m\"\u001b[39m \u001b[38;5;129;01mnot\u001b[39;00m \u001b[38;5;129;01min\u001b[39;00m mode:\n\u001b[0;32m   1660\u001b[0m         mode \u001b[38;5;241m+\u001b[39m\u001b[38;5;241m=\u001b[39m \u001b[38;5;124m\"\u001b[39m\u001b[38;5;124mb\u001b[39m\u001b[38;5;124m\"\u001b[39m\n\u001b[1;32m-> 1661\u001b[0m \u001b[38;5;28mself\u001b[39m\u001b[38;5;241m.\u001b[39mhandles \u001b[38;5;241m=\u001b[39m get_handle(\n\u001b[0;32m   1662\u001b[0m     f,\n\u001b[0;32m   1663\u001b[0m     mode,\n\u001b[0;32m   1664\u001b[0m     encoding\u001b[38;5;241m=\u001b[39m\u001b[38;5;28mself\u001b[39m\u001b[38;5;241m.\u001b[39moptions\u001b[38;5;241m.\u001b[39mget(\u001b[38;5;124m\"\u001b[39m\u001b[38;5;124mencoding\u001b[39m\u001b[38;5;124m\"\u001b[39m, \u001b[38;5;28;01mNone\u001b[39;00m),\n\u001b[0;32m   1665\u001b[0m     compression\u001b[38;5;241m=\u001b[39m\u001b[38;5;28mself\u001b[39m\u001b[38;5;241m.\u001b[39moptions\u001b[38;5;241m.\u001b[39mget(\u001b[38;5;124m\"\u001b[39m\u001b[38;5;124mcompression\u001b[39m\u001b[38;5;124m\"\u001b[39m, \u001b[38;5;28;01mNone\u001b[39;00m),\n\u001b[0;32m   1666\u001b[0m     memory_map\u001b[38;5;241m=\u001b[39m\u001b[38;5;28mself\u001b[39m\u001b[38;5;241m.\u001b[39moptions\u001b[38;5;241m.\u001b[39mget(\u001b[38;5;124m\"\u001b[39m\u001b[38;5;124mmemory_map\u001b[39m\u001b[38;5;124m\"\u001b[39m, \u001b[38;5;28;01mFalse\u001b[39;00m),\n\u001b[0;32m   1667\u001b[0m     is_text\u001b[38;5;241m=\u001b[39mis_text,\n\u001b[0;32m   1668\u001b[0m     errors\u001b[38;5;241m=\u001b[39m\u001b[38;5;28mself\u001b[39m\u001b[38;5;241m.\u001b[39moptions\u001b[38;5;241m.\u001b[39mget(\u001b[38;5;124m\"\u001b[39m\u001b[38;5;124mencoding_errors\u001b[39m\u001b[38;5;124m\"\u001b[39m, \u001b[38;5;124m\"\u001b[39m\u001b[38;5;124mstrict\u001b[39m\u001b[38;5;124m\"\u001b[39m),\n\u001b[0;32m   1669\u001b[0m     storage_options\u001b[38;5;241m=\u001b[39m\u001b[38;5;28mself\u001b[39m\u001b[38;5;241m.\u001b[39moptions\u001b[38;5;241m.\u001b[39mget(\u001b[38;5;124m\"\u001b[39m\u001b[38;5;124mstorage_options\u001b[39m\u001b[38;5;124m\"\u001b[39m, \u001b[38;5;28;01mNone\u001b[39;00m),\n\u001b[0;32m   1670\u001b[0m )\n\u001b[0;32m   1671\u001b[0m \u001b[38;5;28;01massert\u001b[39;00m \u001b[38;5;28mself\u001b[39m\u001b[38;5;241m.\u001b[39mhandles \u001b[38;5;129;01mis\u001b[39;00m \u001b[38;5;129;01mnot\u001b[39;00m \u001b[38;5;28;01mNone\u001b[39;00m\n\u001b[0;32m   1672\u001b[0m f \u001b[38;5;241m=\u001b[39m \u001b[38;5;28mself\u001b[39m\u001b[38;5;241m.\u001b[39mhandles\u001b[38;5;241m.\u001b[39mhandle\n",
      "File \u001b[1;32mc:\\Users\\KIIT\\anaconda3\\Lib\\site-packages\\pandas\\io\\common.py:859\u001b[0m, in \u001b[0;36mget_handle\u001b[1;34m(path_or_buf, mode, encoding, compression, memory_map, is_text, errors, storage_options)\u001b[0m\n\u001b[0;32m    854\u001b[0m \u001b[38;5;28;01melif\u001b[39;00m \u001b[38;5;28misinstance\u001b[39m(handle, \u001b[38;5;28mstr\u001b[39m):\n\u001b[0;32m    855\u001b[0m     \u001b[38;5;66;03m# Check whether the filename is to be opened in binary mode.\u001b[39;00m\n\u001b[0;32m    856\u001b[0m     \u001b[38;5;66;03m# Binary mode does not support 'encoding' and 'newline'.\u001b[39;00m\n\u001b[0;32m    857\u001b[0m     \u001b[38;5;28;01mif\u001b[39;00m ioargs\u001b[38;5;241m.\u001b[39mencoding \u001b[38;5;129;01mand\u001b[39;00m \u001b[38;5;124m\"\u001b[39m\u001b[38;5;124mb\u001b[39m\u001b[38;5;124m\"\u001b[39m \u001b[38;5;129;01mnot\u001b[39;00m \u001b[38;5;129;01min\u001b[39;00m ioargs\u001b[38;5;241m.\u001b[39mmode:\n\u001b[0;32m    858\u001b[0m         \u001b[38;5;66;03m# Encoding\u001b[39;00m\n\u001b[1;32m--> 859\u001b[0m         handle \u001b[38;5;241m=\u001b[39m \u001b[38;5;28mopen\u001b[39m(\n\u001b[0;32m    860\u001b[0m             handle,\n\u001b[0;32m    861\u001b[0m             ioargs\u001b[38;5;241m.\u001b[39mmode,\n\u001b[0;32m    862\u001b[0m             encoding\u001b[38;5;241m=\u001b[39mioargs\u001b[38;5;241m.\u001b[39mencoding,\n\u001b[0;32m    863\u001b[0m             errors\u001b[38;5;241m=\u001b[39merrors,\n\u001b[0;32m    864\u001b[0m             newline\u001b[38;5;241m=\u001b[39m\u001b[38;5;124m\"\u001b[39m\u001b[38;5;124m\"\u001b[39m,\n\u001b[0;32m    865\u001b[0m         )\n\u001b[0;32m    866\u001b[0m     \u001b[38;5;28;01melse\u001b[39;00m:\n\u001b[0;32m    867\u001b[0m         \u001b[38;5;66;03m# Binary mode\u001b[39;00m\n\u001b[0;32m    868\u001b[0m         handle \u001b[38;5;241m=\u001b[39m \u001b[38;5;28mopen\u001b[39m(handle, ioargs\u001b[38;5;241m.\u001b[39mmode)\n",
      "\u001b[1;31mFileNotFoundError\u001b[0m: [Errno 2] No such file or directory: 'bluegills.csv'"
     ]
    }
   ],
   "source": [
    "import pandas as pd\n",
    "df = pd.read_csv(\"bluegills.csv\")"
   ]
  },
  {
   "cell_type": "code",
   "execution_count": null,
   "id": "96026005",
   "metadata": {},
   "outputs": [
    {
     "name": "stdout",
     "output_type": "stream",
     "text": [
      "0     1\n",
      "1     1\n",
      "2     2\n",
      "3     2\n",
      "4     2\n",
      "     ..\n",
      "73    6\n",
      "74    4\n",
      "75    5\n",
      "76    4\n",
      "77    4\n",
      "Name: age, Length: 78, dtype: int64\n"
     ]
    }
   ],
   "source": [
    "#1 How do I select a specific column in a Pandas DataFrame?\n",
    "age_column = df['age']\n",
    "print(age_column)"
   ]
  },
  {
   "cell_type": "code",
   "execution_count": null,
   "id": "2c720aed",
   "metadata": {},
   "outputs": [
    {
     "name": "stdout",
     "output_type": "stream",
     "text": [
      "    age  length\n",
      "17    4     138\n",
      "18    4     135\n",
      "19    4     146\n",
      "20    4     146\n",
      "21    4     145\n",
      "22    4     145\n",
      "23    4     144\n",
      "24    4     140\n",
      "25    4     150\n",
      "26    4     152\n",
      "27    4     157\n",
      "28    4     155\n",
      "29    4     153\n",
      "30    4     154\n",
      "31    4     158\n",
      "32    4     162\n",
      "33    4     161\n",
      "34    4     162\n",
      "35    4     165\n",
      "36    4     171\n",
      "37    5     171\n",
      "38    4     162\n",
      "39    4     169\n",
      "40    4     167\n",
      "41    5     188\n",
      "44    4     150\n",
      "46    4     170\n",
      "48    4     140\n",
      "49    4     140\n",
      "50    4     150\n",
      "51    4     150\n",
      "55    4     150\n",
      "56    4     160\n",
      "58    4     150\n",
      "59    5     170\n",
      "60    4     150\n",
      "61    5     150\n",
      "62    4     150\n",
      "63    4     150\n",
      "65    5     150\n",
      "66    5     160\n",
      "67    4     140\n",
      "68    5     160\n",
      "70    4     160\n",
      "72    4     170\n",
      "73    6     170\n",
      "74    4     160\n",
      "75    5     180\n",
      "76    4     160\n",
      "77    4     170\n"
     ]
    }
   ],
   "source": [
    "#2 How do I filter rows in a Pandas DataFrame based on a condition?\n",
    "filtered_rows = df[df['age'] > 3]\n",
    "print(filtered_rows)"
   ]
  },
  {
   "cell_type": "code",
   "execution_count": null,
   "id": "0c1209a0",
   "metadata": {},
   "outputs": [
    {
     "name": "stdout",
     "output_type": "stream",
     "text": [
      "    age  height\n",
      "0     1      67\n",
      "1     1      62\n",
      "2     2     109\n",
      "3     2      83\n",
      "4     2      91\n",
      "..  ...     ...\n",
      "73    6     170\n",
      "74    4     160\n",
      "75    5     180\n",
      "76    4     160\n",
      "77    4     170\n",
      "\n",
      "[78 rows x 2 columns]\n"
     ]
    }
   ],
   "source": [
    "#3 How do I rename columns in a Pandas DataFrame?\n",
    "df.rename(columns={'length': 'height'}, inplace=True)\n",
    "print(df)"
   ]
  },
  {
   "cell_type": "code",
   "execution_count": null,
   "id": "b160d3cf",
   "metadata": {},
   "outputs": [
    {
     "name": "stdout",
     "output_type": "stream",
     "text": [
      "    age  height\n",
      "73    6     170\n",
      "59    5     170\n",
      "75    5     180\n",
      "37    5     171\n",
      "68    5     160\n",
      "..  ...     ...\n",
      "4     2      91\n",
      "3     2      83\n",
      "2     2     109\n",
      "1     1      62\n",
      "0     1      67\n",
      "\n",
      "[78 rows x 2 columns]\n"
     ]
    }
   ],
   "source": [
    "#4 How do I sort a Pandas DataFrame by a specific column?\n",
    "sorted_df = df.sort_values(by='age', ascending=False)\n",
    "print(sorted_df)"
   ]
  },
  {
   "cell_type": "code",
   "execution_count": null,
   "id": "228b6bf4",
   "metadata": {},
   "outputs": [
    {
     "name": "stdout",
     "output_type": "stream",
     "text": [
      "    age  height\n",
      "0     1      67\n",
      "1     1      62\n",
      "2     2     109\n",
      "3     2      83\n",
      "4     2      91\n",
      "5     2      88\n",
      "6     3     137\n",
      "7     3     131\n",
      "8     3     122\n",
      "10    3     118\n",
      "11    3     115\n",
      "13    3     143\n",
      "14    3     142\n",
      "15    2     123\n",
      "17    4     138\n",
      "18    4     135\n",
      "19    4     146\n",
      "21    4     145\n",
      "23    4     144\n",
      "24    4     140\n",
      "25    4     150\n",
      "26    4     152\n",
      "27    4     157\n",
      "28    4     155\n",
      "29    4     153\n",
      "30    4     154\n",
      "31    4     158\n",
      "32    4     162\n",
      "33    4     161\n",
      "35    4     165\n",
      "36    4     171\n",
      "37    5     171\n",
      "39    4     169\n",
      "40    4     167\n",
      "41    5     188\n",
      "42    2     100\n",
      "45    3     140\n",
      "46    4     170\n",
      "47    3     150\n",
      "56    4     160\n",
      "59    5     170\n",
      "61    5     150\n",
      "66    5     160\n",
      "69    3     130\n",
      "73    6     170\n",
      "75    5     180\n"
     ]
    }
   ],
   "source": [
    "#5 How do I drop duplicate rows in a Pandas DataFrame?\n",
    "df.drop_duplicates(inplace=True)\n",
    "print(df)"
   ]
  },
  {
   "cell_type": "code",
   "execution_count": null,
   "id": "fed67004",
   "metadata": {},
   "outputs": [
    {
     "name": "stdout",
     "output_type": "stream",
     "text": [
      "             age      height\n",
      "count  46.000000   46.000000\n",
      "mean    3.565217  141.130435\n",
      "std     1.088366   29.209290\n",
      "min     1.000000   62.000000\n",
      "25%     3.000000  130.250000\n",
      "50%     4.000000  148.000000\n",
      "75%     4.000000  160.750000\n",
      "max     6.000000  188.000000\n"
     ]
    }
   ],
   "source": [
    "#6 How do I calculate summary statistics (mean, median, etc.) for a Pandas DataFrame?\n",
    "summary_stats = df.describe()\n",
    "print(summary_stats)"
   ]
  },
  {
   "cell_type": "code",
   "execution_count": null,
   "id": "2117d63d",
   "metadata": {},
   "outputs": [
    {
     "name": "stdout",
     "output_type": "stream",
     "text": [
      "    age  height category\n",
      "0     1      67        A\n",
      "1     1      62        A\n",
      "2     2     109        A\n",
      "3     2      83        A\n",
      "4     2      91        A\n",
      "5     2      88        A\n",
      "6     3     137        A\n",
      "7     3     131        A\n",
      "8     3     122        A\n",
      "10    3     118        A\n",
      "11    3     115        A\n",
      "13    3     143        A\n",
      "14    3     142        A\n",
      "15    2     123        A\n",
      "17    4     138        A\n",
      "18    4     135        A\n",
      "19    4     146        A\n",
      "21    4     145        A\n",
      "23    4     144        A\n",
      "24    4     140        A\n",
      "25    4     150        A\n",
      "26    4     152        A\n",
      "27    4     157        A\n",
      "28    4     155        A\n",
      "29    4     153        A\n",
      "30    4     154        A\n",
      "31    4     158        A\n",
      "32    4     162        A\n",
      "33    4     161        A\n",
      "35    4     165        A\n",
      "36    4     171        A\n",
      "37    5     171        A\n",
      "39    4     169        A\n",
      "40    4     167        A\n",
      "41    5     188        A\n",
      "42    2     100        A\n",
      "45    3     140        A\n",
      "46    4     170        A\n",
      "47    3     150        A\n",
      "56    4     160        A\n",
      "59    5     170        A\n",
      "61    5     150        A\n",
      "66    5     160        A\n",
      "69    3     130        A\n",
      "73    6     170        A\n",
      "75    5     180        A\n"
     ]
    }
   ],
   "source": [
    "#7 How do I add a new column to a Pandas DataFrame?\n",
    "df['category'] = 'A'\n",
    "print(df)\n"
   ]
  },
  {
   "cell_type": "code",
   "execution_count": null,
   "id": "662f6ef2",
   "metadata": {},
   "outputs": [
    {
     "name": "stdout",
     "output_type": "stream",
     "text": [
      "age\n",
      "1     64.500000\n",
      "2     99.000000\n",
      "3    132.800000\n",
      "4    154.857143\n",
      "5    169.833333\n",
      "6    170.000000\n",
      "Name: height, dtype: float64\n"
     ]
    }
   ],
   "source": [
    "#8 How do I group a Pandas DataFrame by one or multiple columns?\n",
    "grouped_df = df.groupby('age')['height'].mean()\n",
    "print(grouped_df)"
   ]
  },
  {
   "cell_type": "code",
   "execution_count": null,
   "id": "8c430a3c",
   "metadata": {},
   "outputs": [
    {
     "name": "stdout",
     "output_type": "stream",
     "text": [
      "Merged DataFrame:\n",
      "   age  height_df1  height_df2\n",
      "0    1          67          62\n",
      "1    2         109          83\n",
      "2    3         137         122\n",
      "3    4         138         150\n",
      "4    5         171         180\n"
     ]
    }
   ],
   "source": [
    "#9 How do I perform left, right, or outer join on two Pandas DataFrames?\n",
    "data_df1 = {'age': [1, 2, 3, 4, 5],\n",
    "            'height_df1': [67, 109, 137, 138, 171]}\n",
    "df1 = pd.DataFrame(data_df1)\n",
    "\n",
    "# Sample data for df2\n",
    "data_df2 = {'age': [1, 2, 3, 4, 5],\n",
    "            'height_df2': [62, 83, 122, 150, 180]}\n",
    "df2 = pd.DataFrame(data_df2)\n",
    "merged_df = pd.merge(df1, df2, on='age', how='left')\n",
    "\n",
    "print(\"Merged DataFrame:\")\n",
    "print(merged_df)\n",
    "\n"
   ]
  },
  {
   "cell_type": "code",
   "execution_count": null,
   "id": "48e3b54f",
   "metadata": {},
   "outputs": [
    {
     "name": "stdout",
     "output_type": "stream",
     "text": [
      "    age  height category\n",
      "0     1      67        A\n",
      "1     1      62        A\n",
      "2     2     109        A\n",
      "3     2      83        A\n",
      "4     2      91        A\n",
      "5     2      88        A\n",
      "6     3     137        A\n",
      "7     3     131        A\n",
      "8     3     122        A\n",
      "10    3     118        A\n",
      "11    3     115        A\n",
      "13    3     143        A\n",
      "14    3     142        A\n",
      "15    2     123        A\n",
      "17    4     138        A\n",
      "18    4     135        A\n",
      "19    4     146        A\n",
      "21    4     145        A\n",
      "23    4     144        A\n",
      "24    4     140        A\n",
      "25    4     150        A\n",
      "26    4     152        A\n",
      "27    4     157        A\n",
      "28    4     155        A\n",
      "29    4     153        A\n",
      "30    4     154        A\n",
      "31    4     158        A\n",
      "32    4     162        A\n",
      "33    4     161        A\n",
      "35    4     165        A\n",
      "36    4     171        A\n",
      "37    5     171        A\n",
      "39    4     169        A\n",
      "40    4     167        A\n",
      "41    5     188        A\n",
      "42    2     100        A\n",
      "45    3     140        A\n",
      "46    4     170        A\n",
      "47    3     150        A\n",
      "56    4     160        A\n",
      "59    5     170        A\n",
      "61    5     150        A\n",
      "66    5     160        A\n",
      "69    3     130        A\n",
      "73    6     170        A\n",
      "75    5     180        A\n"
     ]
    }
   ],
   "source": [
    "#10 How do I handle missing data in a Pandas DataFrame?\n",
    "df['height'].fillna(df['height'].mean(), inplace=True)\n",
    "print(df)\n"
   ]
  },
  {
   "cell_type": "code",
   "execution_count": null,
   "id": "62dd826e",
   "metadata": {},
   "outputs": [
    {
     "name": "stdout",
     "output_type": "stream",
     "text": [
      "NumPy Array:\n",
      "[[1 67 'A']\n",
      " [1 62 'A']\n",
      " [2 109 'A']\n",
      " [2 83 'A']\n",
      " [2 91 'A']\n",
      " [2 88 'A']\n",
      " [3 137 'A']\n",
      " [3 131 'A']\n",
      " [3 122 'A']\n",
      " [3 118 'A']\n",
      " [3 115 'A']\n",
      " [3 143 'A']\n",
      " [3 142 'A']\n",
      " [2 123 'A']\n",
      " [4 138 'A']\n",
      " [4 135 'A']\n",
      " [4 146 'A']\n",
      " [4 145 'A']\n",
      " [4 144 'A']\n",
      " [4 140 'A']\n",
      " [4 150 'A']\n",
      " [4 152 'A']\n",
      " [4 157 'A']\n",
      " [4 155 'A']\n",
      " [4 153 'A']\n",
      " [4 154 'A']\n",
      " [4 158 'A']\n",
      " [4 162 'A']\n",
      " [4 161 'A']\n",
      " [4 165 'A']\n",
      " [4 171 'A']\n",
      " [5 171 'A']\n",
      " [4 169 'A']\n",
      " [4 167 'A']\n",
      " [5 188 'A']\n",
      " [2 100 'A']\n",
      " [3 140 'A']\n",
      " [4 170 'A']\n",
      " [3 150 'A']\n",
      " [4 160 'A']\n",
      " [5 170 'A']\n",
      " [5 150 'A']\n",
      " [5 160 'A']\n",
      " [3 130 'A']\n",
      " [6 170 'A']\n",
      " [5 180 'A']]\n"
     ]
    }
   ],
   "source": [
    "#11 How do I convert a Pandas DataFrame to a NumPy array?\n",
    "numpy_array = df.to_numpy()\n",
    "print(\"NumPy Array:\")\n",
    "print(numpy_array)\n"
   ]
  },
  {
   "cell_type": "code",
   "execution_count": null,
   "id": "a4a78c7b",
   "metadata": {},
   "outputs": [
    {
     "name": "stdout",
     "output_type": "stream",
     "text": [
      "Merged DataFrame:\n",
      "   age  height_df1  height_df2\n",
      "0    1          67          62\n",
      "1    2         109          83\n",
      "2    3         137         122\n",
      "3    4         138         150\n",
      "4    5         171         180\n"
     ]
    }
   ],
   "source": [
    "#12 How do I merge two Pandas’ DataFrames on a specific column?\n",
    "data_df1 = {'age': [1, 2, 3, 4, 5],\n",
    "            'height_df1': [67, 109, 137, 138, 171]}\n",
    "df1 = pd.DataFrame(data_df1)\n",
    "\n",
    "# Sample data for df2\n",
    "data_df2 = {'age': [1, 2, 3, 4, 5],\n",
    "            'height_df2': [62, 83, 122, 150, 180]}\n",
    "df2 = pd.DataFrame(data_df2)\n",
    "merged_df = pd.merge(df1, df2, on='age', how='inner')\n",
    "print(\"Merged DataFrame:\")\n",
    "print(merged_df)\n"
   ]
  },
  {
   "cell_type": "code",
   "execution_count": null,
   "id": "da742125",
   "metadata": {},
   "outputs": [
    {
     "name": "stdout",
     "output_type": "stream",
     "text": [
      "Pivoted DataFrame:\n",
      "Empty DataFrame\n",
      "Columns: []\n",
      "Index: [1, 2, 3, 4, 5, 6]\n"
     ]
    },
    {
     "name": "stderr",
     "output_type": "stream",
     "text": [
      "C:\\Users\\KIIT\\AppData\\Local\\Temp\\ipykernel_5420\\3339785156.py:2: FutureWarning: pivot_table dropped a column because it failed to aggregate. This behavior is deprecated and will raise in a future version of pandas. Select only the columns that can be aggregated.\n",
      "  pivoted_df = df.pivot_table(index='age', columns='height', values='height', aggfunc='mean')\n"
     ]
    }
   ],
   "source": [
    "#13 How do I pivot a Pandas DataFrame?\n",
    "pivoted_df = df.pivot_table(index='age', columns='height', values='height', aggfunc='mean')\n",
    "print(\"Pivoted DataFrame:\")\n",
    "print(pivoted_df)\n"
   ]
  },
  {
   "cell_type": "code",
   "execution_count": null,
   "id": "34490bfb",
   "metadata": {},
   "outputs": [
    {
     "name": "stdout",
     "output_type": "stream",
     "text": [
      "DataFrame from CSV:\n",
      "    age  length\n",
      "0     1      67\n",
      "1     1      62\n",
      "2     2     109\n",
      "3     2      83\n",
      "4     2      91\n",
      "..  ...     ...\n",
      "73    6     170\n",
      "74    4     160\n",
      "75    5     180\n",
      "76    4     160\n",
      "77    4     170\n",
      "\n",
      "[78 rows x 2 columns]\n"
     ]
    }
   ],
   "source": [
    "#14 How do I read a CSV file into Pandas DataFrame?\n",
    "df = pd.read_csv(\"bluegills.csv\")\n",
    "print(\"DataFrame from CSV:\")\n",
    "print(df)\n"
   ]
  },
  {
   "cell_type": "code",
   "execution_count": null,
   "id": "ee84b904",
   "metadata": {},
   "outputs": [
    {
     "name": "stdout",
     "output_type": "stream",
     "text": [
      "DataFrame written to CSV file.\n"
     ]
    }
   ],
   "source": [
    "#15 How do I write a Pandas DataFrame to a CSV file?\n",
    "df.to_csv(\"output_file.csv\", index=False)\n",
    "print(\"DataFrame written to CSV file.\")\n"
   ]
  },
  {
   "cell_type": "code",
   "execution_count": null,
   "id": "c67a5ff8",
   "metadata": {},
   "outputs": [
    {
     "name": "stdout",
     "output_type": "stream",
     "text": [
      "DataFrame written to JSON file.\n"
     ]
    }
   ],
   "source": [
    "#16 How do I convert a Pandas DataFrame to a JSON file?\n",
    "df.to_json(\"output_file.json\", orient='records')\n",
    "print(\"DataFrame written to JSON file.\")\n"
   ]
  },
  {
   "cell_type": "code",
   "execution_count": null,
   "id": "53cac993",
   "metadata": {},
   "outputs": [
    {
     "name": "stdout",
     "output_type": "stream",
     "text": [
      "DataFrame with squared length column:\n",
      "    age  length  length_squared\n",
      "0     1      67            4489\n",
      "1     1      62            3844\n",
      "2     2     109           11881\n",
      "3     2      83            6889\n",
      "4     2      91            8281\n",
      "..  ...     ...             ...\n",
      "73    6     170           28900\n",
      "74    4     160           25600\n",
      "75    5     180           32400\n",
      "76    4     160           25600\n",
      "77    4     170           28900\n",
      "\n",
      "[78 rows x 3 columns]\n"
     ]
    }
   ],
   "source": [
    "#17 How do I apply a function to a column in a Pandas DataFrame?\n",
    "df['length_squared'] = df['length'].apply(lambda x: x**2)\n",
    "print(\"DataFrame with squared length column:\")\n",
    "print(df)\n"
   ]
  },
  {
   "cell_type": "code",
   "execution_count": null,
   "id": "6da3fb7e",
   "metadata": {},
   "outputs": [
    {
     "name": "stdout",
     "output_type": "stream",
     "text": [
      "DataFrame with 'length' column dropped:\n",
      "    age  length_squared\n",
      "0     1            4489\n",
      "1     1            3844\n",
      "2     2           11881\n",
      "3     2            6889\n",
      "4     2            8281\n",
      "..  ...             ...\n",
      "73    6           28900\n",
      "74    4           25600\n",
      "75    5           32400\n",
      "76    4           25600\n",
      "77    4           28900\n",
      "\n",
      "[78 rows x 2 columns]\n"
     ]
    }
   ],
   "source": [
    "#18 How do I drop a column from a Pandas DataFrame?\n",
    "df.drop(columns=['length'], inplace=True)\n",
    "print(\"DataFrame with 'length' column dropped:\")\n",
    "print(df)\n"
   ]
  },
  {
   "cell_type": "code",
   "execution_count": null,
   "id": "97b760cd",
   "metadata": {},
   "outputs": [
    {
     "name": "stdout",
     "output_type": "stream",
     "text": [
      "DataFrame with 'age' column datatype changed:\n",
      "    age  length_squared\n",
      "0   1.0            4489\n",
      "1   1.0            3844\n",
      "2   2.0           11881\n",
      "3   2.0            6889\n",
      "4   2.0            8281\n",
      "..  ...             ...\n",
      "73  6.0           28900\n",
      "74  4.0           25600\n",
      "75  5.0           32400\n",
      "76  4.0           25600\n",
      "77  4.0           28900\n",
      "\n",
      "[78 rows x 2 columns]\n"
     ]
    }
   ],
   "source": [
    "#19 How do I change the datatype of a column in a Pandas DataFrame?\n",
    "df['age'] = df['age'].astype(float)\n",
    "print(\"DataFrame with 'age' column datatype changed:\")\n",
    "print(df)\n"
   ]
  },
  {
   "cell_type": "code",
   "execution_count": null,
   "id": "309a46eb",
   "metadata": {},
   "outputs": [
    {
     "name": "stdout",
     "output_type": "stream",
     "text": [
      "Unique values in the 'age' column:\n",
      "[1. 2. 3. 4. 5. 6.]\n"
     ]
    }
   ],
   "source": [
    "#20 How do I find the unique values in a column of a Pandas DataFrame?\n",
    "unique_values = df['age'].unique()\n",
    "print(\"Unique values in the 'age' column:\")\n",
    "print(unique_values)\n"
   ]
  },
  {
   "cell_type": "code",
   "execution_count": null,
   "id": "8c765874",
   "metadata": {},
   "outputs": [
    {
     "name": "stdout",
     "output_type": "stream",
     "text": [
      "First 5 rows:\n",
      "   age  length_squared\n",
      "0  1.0            4489\n",
      "1  1.0            3844\n",
      "2  2.0           11881\n",
      "3  2.0            6889\n",
      "4  2.0            8281\n"
     ]
    }
   ],
   "source": [
    "#21 How do I select the first n rows from a Pandas DataFrame?\n",
    "first_n_rows = df.head(5)\n",
    "print(\"First 5 rows:\")\n",
    "print(first_n_rows)\n"
   ]
  },
  {
   "cell_type": "code",
   "execution_count": null,
   "id": "4ef47ab1",
   "metadata": {},
   "outputs": [
    {
     "name": "stdout",
     "output_type": "stream",
     "text": [
      "DataFrame with reset index:\n",
      "    age  length_squared\n",
      "0   1.0            4489\n",
      "1   1.0            3844\n",
      "2   2.0           11881\n",
      "3   2.0            6889\n",
      "4   2.0            8281\n",
      "..  ...             ...\n",
      "73  6.0           28900\n",
      "74  4.0           25600\n",
      "75  5.0           32400\n",
      "76  4.0           25600\n",
      "77  4.0           28900\n",
      "\n",
      "[78 rows x 2 columns]\n"
     ]
    }
   ],
   "source": [
    "#22 How do I reset the index of a Pandas DataFrame?\n",
    "df_reset_index = df.reset_index(drop=True)\n",
    "print(\"DataFrame with reset index:\")\n",
    "print(df_reset_index)"
   ]
  },
  {
   "cell_type": "code",
   "execution_count": null,
   "id": "18e4c9bf",
   "metadata": {},
   "outputs": [
    {
     "name": "stdout",
     "output_type": "stream",
     "text": [
      "Sliced DataFrame:\n",
      "   age  length_squared\n",
      "3  2.0            6889\n",
      "4  2.0            8281\n",
      "5  2.0            7744\n",
      "6  3.0           18769\n",
      "7  3.0           17161\n"
     ]
    }
   ],
   "source": [
    "#23 How do I slice a Pandas DataFrame by row?\n",
    "sliced_rows = df.iloc[3:8]\n",
    "print(\"Sliced DataFrame:\")\n",
    "print(sliced_rows)\n"
   ]
  },
  {
   "cell_type": "code",
   "execution_count": null,
   "id": "ec59e5c0",
   "metadata": {},
   "outputs": [
    {
     "name": "stdout",
     "output_type": "stream",
     "text": [
      "Last 5 rows:\n",
      "    age  length_squared\n",
      "73  6.0           28900\n",
      "74  4.0           25600\n",
      "75  5.0           32400\n",
      "76  4.0           25600\n",
      "77  4.0           28900\n"
     ]
    }
   ],
   "source": [
    "#24 How do I select the last n rows from a Pandas DataFrame?\n",
    "last_n_rows = df.tail(5)\n",
    "print(\"Last 5 rows:\")\n",
    "print(last_n_rows)"
   ]
  },
  {
   "cell_type": "code",
   "execution_count": null,
   "id": "9b2ee49f",
   "metadata": {},
   "outputs": [
    {
     "name": "stdout",
     "output_type": "stream",
     "text": [
      "Random sample of 5 rows:\n",
      "    age  length_squared\n",
      "45  3.0           19600\n",
      "47  3.0           22500\n",
      "8   3.0           14884\n",
      "18  4.0           18225\n",
      "62  4.0           22500\n"
     ]
    }
   ],
   "source": [
    "#25 How do I select a random sample of rows from a Pandas DataFrame?\n",
    "random_sample = df.sample(n=5)\n",
    "print(\"Random sample of 5 rows:\")\n",
    "print(random_sample)\n"
   ]
  },
  {
   "cell_type": "code",
   "execution_count": null,
   "id": "cf08f041",
   "metadata": {},
   "outputs": [
    {
     "name": "stdout",
     "output_type": "stream",
     "text": [
      "Pivot Table:\n",
      "Empty DataFrame\n",
      "Columns: []\n",
      "Index: [1.0, 2.0, 3.0, 4.0, 5.0, 6.0]\n"
     ]
    }
   ],
   "source": [
    "#26 How do I create a pivot table in Pandas?\n",
    "pivot_table = df.pivot_table(index='age', columns='length_squared', values='length_squared', aggfunc='mean')\n",
    "print(\"Pivot Table:\")\n",
    "print(pivot_table)\n"
   ]
  },
  {
   "cell_type": "code",
   "execution_count": null,
   "id": "cd4b0bde",
   "metadata": {},
   "outputs": [
    {
     "name": "stdout",
     "output_type": "stream",
     "text": [
      "Concatenated DataFrame:\n",
      "   age  height_df1  height_df2\n",
      "0    1        67.0         NaN\n",
      "1    2       109.0         NaN\n",
      "2    3       137.0         NaN\n",
      "3    4       138.0         NaN\n",
      "4    5       171.0         NaN\n",
      "5    1         NaN        62.0\n",
      "6    2         NaN        83.0\n",
      "7    3         NaN       122.0\n",
      "8    4         NaN       150.0\n",
      "9    5         NaN       180.0\n"
     ]
    }
   ],
   "source": [
    "#27 How do I concatenate two Pandas DataFrames?\n",
    "concatenated_df = pd.concat([df1, df2], ignore_index=True)\n",
    "print(\"Concatenated DataFrame:\")\n",
    "print(concatenated_df)\n"
   ]
  },
  {
   "cell_type": "code",
   "execution_count": null,
   "id": "2f065ccd",
   "metadata": {},
   "outputs": [
    {
     "name": "stdout",
     "output_type": "stream",
     "text": [
      "Copy of DataFrame:\n",
      "    age  length_squared\n",
      "0   1.0            4489\n",
      "1   1.0            3844\n",
      "2   2.0           11881\n",
      "3   2.0            6889\n",
      "4   2.0            8281\n",
      "..  ...             ...\n",
      "73  6.0           28900\n",
      "74  4.0           25600\n",
      "75  5.0           32400\n",
      "76  4.0           25600\n",
      "77  4.0           28900\n",
      "\n",
      "[78 rows x 2 columns]\n"
     ]
    }
   ],
   "source": [
    "#28 How do I create a copy of a Pandas DataFrame?\n",
    "df_copy = df.copy()\n",
    "print(\"Copy of DataFrame:\")\n",
    "print(df_copy)\n"
   ]
  },
  {
   "cell_type": "code",
   "execution_count": null,
   "id": "e4f5b716",
   "metadata": {},
   "outputs": [
    {
     "name": "stdout",
     "output_type": "stream",
     "text": [
      "DataFrame without NaN values:\n",
      "    age  length_squared\n",
      "0   1.0            4489\n",
      "1   1.0            3844\n",
      "2   2.0           11881\n",
      "3   2.0            6889\n",
      "4   2.0            8281\n",
      "..  ...             ...\n",
      "73  6.0           28900\n",
      "74  4.0           25600\n",
      "75  5.0           32400\n",
      "76  4.0           25600\n",
      "77  4.0           28900\n",
      "\n",
      "[78 rows x 2 columns]\n"
     ]
    }
   ],
   "source": [
    "#29 How do I drop rows with NaN values in a Pandas DataFrame?\n",
    "df_without_nan = df.dropna()\n",
    "print(\"DataFrame without NaN values:\")\n",
    "print(df_without_nan)\n"
   ]
  },
  {
   "cell_type": "code",
   "execution_count": null,
   "id": "ad376785",
   "metadata": {},
   "outputs": [
    {
     "name": "stdout",
     "output_type": "stream",
     "text": [
      "DataFrame with missing values filled:\n",
      "    age  length_squared\n",
      "0   1.0            4489\n",
      "1   1.0            3844\n",
      "2   2.0           11881\n",
      "3   2.0            6889\n",
      "4   2.0            8281\n",
      "..  ...             ...\n",
      "73  6.0           28900\n",
      "74  4.0           25600\n",
      "75  5.0           32400\n",
      "76  4.0           25600\n",
      "77  4.0           28900\n",
      "\n",
      "[78 rows x 2 columns]\n"
     ]
    }
   ],
   "source": [
    "#30 How do I fill in missing values in a Pandas DataFrame?\n",
    "df['length_squared'].fillna(df['length_squared'].mean(), inplace=True)\n",
    "print(\"DataFrame with missing values filled:\")\n",
    "print(df)\n"
   ]
  },
  {
   "cell_type": "code",
   "execution_count": null,
   "id": "78cdb4a1",
   "metadata": {},
   "outputs": [
    {
     "name": "stdout",
     "output_type": "stream",
     "text": [
      "DataFrame with shifted 'length' column:\n",
      "    age  length_squared  shifted_length\n",
      "0   1.0            4489             NaN\n",
      "1   1.0            3844          4489.0\n",
      "2   2.0           11881          3844.0\n",
      "3   2.0            6889         11881.0\n",
      "4   2.0            8281          6889.0\n",
      "..  ...             ...             ...\n",
      "73  6.0           28900         28900.0\n",
      "74  4.0           25600         28900.0\n",
      "75  5.0           32400         25600.0\n",
      "76  4.0           25600         32400.0\n",
      "77  4.0           28900         25600.0\n",
      "\n",
      "[78 rows x 3 columns]\n"
     ]
    }
   ],
   "source": [
    "#31 How do I perform a shift operation on a column in a Pandas DataFrame?\n",
    "df['shifted_length'] = df['length_squared'].shift(1)\n",
    "print(\"DataFrame with shifted 'length' column:\")\n",
    "print(df)\n"
   ]
  },
  {
   "cell_type": "code",
   "execution_count": null,
   "id": "251ba1b9",
   "metadata": {},
   "outputs": [
    {
     "name": "stdout",
     "output_type": "stream",
     "text": [
      "DataFrame with cumulative product column:\n",
      "    age  length_squared  shifted_length   cumulative_product\n",
      "0   1.0            4489             NaN                 4489\n",
      "1   1.0            3844          4489.0             17255716\n",
      "2   2.0           11881          3844.0         205015161796\n",
      "3   2.0            6889         11881.0     1412349449612644\n",
      "4   2.0            8281          6889.0 -6751078281467246652\n",
      "..  ...             ...             ...                  ...\n",
      "73  6.0           28900         28900.0                    0\n",
      "74  4.0           25600         28900.0                    0\n",
      "75  5.0           32400         25600.0                    0\n",
      "76  4.0           25600         32400.0                    0\n",
      "77  4.0           28900         25600.0                    0\n",
      "\n",
      "[78 rows x 4 columns]\n"
     ]
    }
   ],
   "source": [
    "#32 How do I perform a cumulative product operation on a column in a Pandas DataFrame?\n",
    "df['cumulative_product'] = df['length_squared'].cumprod()\n",
    "print(\"DataFrame with cumulative product column:\")\n",
    "print(df)\n"
   ]
  },
  {
   "cell_type": "code",
   "execution_count": null,
   "id": "e64874fe",
   "metadata": {},
   "outputs": [
    {
     "name": "stdout",
     "output_type": "stream",
     "text": [
      "DataFrame with cumulative maximum column:\n",
      "    age  length_squared  shifted_length   cumulative_product  cumulative_max\n",
      "0   1.0            4489             NaN                 4489            4489\n",
      "1   1.0            3844          4489.0             17255716            4489\n",
      "2   2.0           11881          3844.0         205015161796           11881\n",
      "3   2.0            6889         11881.0     1412349449612644           11881\n",
      "4   2.0            8281          6889.0 -6751078281467246652           11881\n",
      "..  ...             ...             ...                  ...             ...\n",
      "73  6.0           28900         28900.0                    0           35344\n",
      "74  4.0           25600         28900.0                    0           35344\n",
      "75  5.0           32400         25600.0                    0           35344\n",
      "76  4.0           25600         32400.0                    0           35344\n",
      "77  4.0           28900         25600.0                    0           35344\n",
      "\n",
      "[78 rows x 5 columns]\n"
     ]
    }
   ],
   "source": [
    "#33 How do I perform a cumulative maximum operation on a column in a Pandas DataFrame?\n",
    "df['cumulative_max'] = df['length_squared'].cummax()\n",
    "print(\"DataFrame with cumulative maximum column:\")\n",
    "print(df)\n"
   ]
  },
  {
   "cell_type": "code",
   "execution_count": null,
   "id": "20118b5b",
   "metadata": {},
   "outputs": [
    {
     "name": "stdout",
     "output_type": "stream",
     "text": [
      "DataFrame with moving average column:\n",
      "    age  length_squared  shifted_length   cumulative_product  cumulative_max  \\\n",
      "0   1.0            4489             NaN                 4489            4489   \n",
      "1   1.0            3844          4489.0             17255716            4489   \n",
      "2   2.0           11881          3844.0         205015161796           11881   \n",
      "3   2.0            6889         11881.0     1412349449612644           11881   \n",
      "4   2.0            8281          6889.0 -6751078281467246652           11881   \n",
      "..  ...             ...             ...                  ...             ...   \n",
      "73  6.0           28900         28900.0                    0           35344   \n",
      "74  4.0           25600         28900.0                    0           35344   \n",
      "75  5.0           32400         25600.0                    0           35344   \n",
      "76  4.0           25600         32400.0                    0           35344   \n",
      "77  4.0           28900         25600.0                    0           35344   \n",
      "\n",
      "    moving_average  \n",
      "0              NaN  \n",
      "1              NaN  \n",
      "2      6738.000000  \n",
      "3      7538.000000  \n",
      "4      9017.000000  \n",
      "..             ...  \n",
      "73    24900.000000  \n",
      "74    27800.000000  \n",
      "75    28966.666667  \n",
      "76    27866.666667  \n",
      "77    28966.666667  \n",
      "\n",
      "[78 rows x 6 columns]\n"
     ]
    }
   ],
   "source": [
    "#34 How do I calculate the moving average of a column in a Pandas DataFrame?\n",
    "df['moving_average'] = df['length_squared'].rolling(window=3).mean()\n",
    "print(\"DataFrame with moving average column:\")\n",
    "print(df)\n"
   ]
  },
  {
   "cell_type": "code",
   "execution_count": null,
   "id": "a09622ac",
   "metadata": {},
   "outputs": [
    {
     "name": "stdout",
     "output_type": "stream",
     "text": [
      "DataFrame with exponential moving average column:\n",
      "    age  length_squared  shifted_length   cumulative_product  cumulative_max  \\\n",
      "0   1.0            4489             NaN                 4489            4489   \n",
      "1   1.0            3844          4489.0             17255716            4489   \n",
      "2   2.0           11881          3844.0         205015161796           11881   \n",
      "3   2.0            6889         11881.0     1412349449612644           11881   \n",
      "4   2.0            8281          6889.0 -6751078281467246652           11881   \n",
      "..  ...             ...             ...                  ...             ...   \n",
      "73  6.0           28900         28900.0                    0           35344   \n",
      "74  4.0           25600         28900.0                    0           35344   \n",
      "75  5.0           32400         25600.0                    0           35344   \n",
      "76  4.0           25600         32400.0                    0           35344   \n",
      "77  4.0           28900         25600.0                    0           35344   \n",
      "\n",
      "    moving_average  exponential_moving_average  \n",
      "0              NaN                 4489.000000  \n",
      "1              NaN                 4059.000000  \n",
      "2      6738.000000                 8528.714286  \n",
      "3      7538.000000                 7654.200000  \n",
      "4      9017.000000                 7977.709677  \n",
      "..             ...                         ...  \n",
      "73    24900.000000                26656.824829  \n",
      "74    27800.000000                26128.412415  \n",
      "75    28966.666667                29264.206207  \n",
      "76    27866.666667                27432.103104  \n",
      "77    28966.666667                28166.051552  \n",
      "\n",
      "[78 rows x 7 columns]\n"
     ]
    }
   ],
   "source": [
    "#35 How do I calculate the exponential moving average of a column in a Pandas DataFrame?df['exponential_moving_average'] = df['length_squared'].ewm(alpha=0.5).mean()\n",
    "print(\"DataFrame with exponential moving average column:\")\n",
    "print(df)\n"
   ]
  },
  {
   "cell_type": "code",
   "execution_count": null,
   "id": "9db8689b",
   "metadata": {},
   "outputs": [
    {
     "name": "stdout",
     "output_type": "stream",
     "text": [
      "DataFrame with cumulative minimum column:\n",
      "    age  length_squared  shifted_length   cumulative_product  cumulative_max  \\\n",
      "0   1.0            4489             NaN                 4489            4489   \n",
      "1   1.0            3844          4489.0             17255716            4489   \n",
      "2   2.0           11881          3844.0         205015161796           11881   \n",
      "3   2.0            6889         11881.0     1412349449612644           11881   \n",
      "4   2.0            8281          6889.0 -6751078281467246652           11881   \n",
      "..  ...             ...             ...                  ...             ...   \n",
      "73  6.0           28900         28900.0                    0           35344   \n",
      "74  4.0           25600         28900.0                    0           35344   \n",
      "75  5.0           32400         25600.0                    0           35344   \n",
      "76  4.0           25600         32400.0                    0           35344   \n",
      "77  4.0           28900         25600.0                    0           35344   \n",
      "\n",
      "    moving_average  exponential_moving_average  cumulative_min  \n",
      "0              NaN                 4489.000000            4489  \n",
      "1              NaN                 4059.000000            3844  \n",
      "2      6738.000000                 8528.714286            3844  \n",
      "3      7538.000000                 7654.200000            3844  \n",
      "4      9017.000000                 7977.709677            3844  \n",
      "..             ...                         ...             ...  \n",
      "73    24900.000000                26656.824829            3844  \n",
      "74    27800.000000                26128.412415            3844  \n",
      "75    28966.666667                29264.206207            3844  \n",
      "76    27866.666667                27432.103104            3844  \n",
      "77    28966.666667                28166.051552            3844  \n",
      "\n",
      "[78 rows x 8 columns]\n"
     ]
    }
   ],
   "source": [
    "#36 How do I calculate the cumulative minimum operation on a column in a Pandas DataFrame?\n",
    "df['cumulative_min'] = df['length_squared'].cummin()\n",
    "print(\"DataFrame with cumulative minimum column:\")\n",
    "print(df)"
   ]
  },
  {
   "cell_type": "code",
   "execution_count": null,
   "id": "931e7324",
   "metadata": {},
   "outputs": [],
   "source": []
  }
 ],
 "metadata": {
  "kernelspec": {
   "display_name": "Python 3 (ipykernel)",
   "language": "python",
   "name": "python3"
  },
  "language_info": {
   "codemirror_mode": {
    "name": "ipython",
    "version": 3
   },
   "file_extension": ".py",
   "mimetype": "text/x-python",
   "name": "python",
   "nbconvert_exporter": "python",
   "pygments_lexer": "ipython3",
   "version": "3.11.5"
  }
 },
 "nbformat": 4,
 "nbformat_minor": 5
}
