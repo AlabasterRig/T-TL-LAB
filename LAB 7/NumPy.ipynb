{
 "cells": [
  {
   "cell_type": "markdown",
   "metadata": {},
   "source": [
    "# NumPy Test\n",
    "# Name - Utkrist Jaiswal\n",
    "# Roll - 21051526\n",
    "# Sec - CSE-36"
   ]
  },
  {
   "cell_type": "markdown",
   "metadata": {},
   "source": [
    "# Question 1\n",
    "How to create an empty and a full NumPy array?"
   ]
  },
  {
   "cell_type": "code",
   "execution_count": 2,
   "metadata": {},
   "outputs": [
    {
     "name": "stdout",
     "output_type": "stream",
     "text": [
      "Empty Array:  [[4.45061032e-308 9.34604358e-307]\n",
      " [1.11259601e-306 2.04721870e-306]]\n"
     ]
    }
   ],
   "source": [
    "import numpy as np\n",
    "emptyArray = np.empty((2,2))\n",
    "print(\"Empty Array: \", emptyArray)"
   ]
  },
  {
   "cell_type": "code",
   "execution_count": 3,
   "metadata": {},
   "outputs": [
    {
     "name": "stdout",
     "output_type": "stream",
     "text": [
      "Full Array:  [[3 3]\n",
      " [3 3]]\n"
     ]
    }
   ],
   "source": [
    "fullArray = np.full((2,2), 3)\n",
    "print(\"Full Array: \", fullArray)"
   ]
  },
  {
   "cell_type": "markdown",
   "metadata": {},
   "source": [
    "# Question 2\n",
    "Create a NumPy arraay filled with all zeroes."
   ]
  },
  {
   "cell_type": "code",
   "execution_count": 4,
   "metadata": {},
   "outputs": [
    {
     "name": "stdout",
     "output_type": "stream",
     "text": [
      "Array with zeroes:  [[0 0 0]]\n"
     ]
    }
   ],
   "source": [
    "zeroArray = np.full((1,3), 0)\n",
    "print(\"Array with zeroes: \", zeroArray)"
   ]
  },
  {
   "cell_type": "markdown",
   "metadata": {},
   "source": [
    "# Question 3\n",
    "Create a NumPy array filled with all ones."
   ]
  },
  {
   "cell_type": "code",
   "execution_count": 5,
   "metadata": {},
   "outputs": [
    {
     "name": "stdout",
     "output_type": "stream",
     "text": [
      "Array with ones:  [[1 1 1 1]]\n"
     ]
    }
   ],
   "source": [
    "onesArray = np.full((1,4), 1)\n",
    "print(\"Array with ones: \", onesArray)"
   ]
  },
  {
   "cell_type": "markdown",
   "metadata": {},
   "source": [
    "# Question 4\n",
    "Check whether a NumPy array contains a specified row."
   ]
  },
  {
   "cell_type": "code",
   "execution_count": 6,
   "metadata": {},
   "outputs": [
    {
     "name": "stdout",
     "output_type": "stream",
     "text": [
      "True\n"
     ]
    }
   ],
   "source": [
    "arr = np.array([[1,3,4],\n",
    "                [2,4,5],\n",
    "                [4,6,7]])\n",
    "\n",
    "specifiedRow = np.array([1,3,4])\n",
    "row = np.any(np.all(arr == specifiedRow, axis=1))\n",
    "\n",
    "print(row)"
   ]
  },
  {
   "cell_type": "markdown",
   "metadata": {},
   "source": [
    "# Question 5\n",
    "How to remove rows in NumPy array that contains non-numerical values?"
   ]
  },
  {
   "cell_type": "code",
   "execution_count": 7,
   "metadata": {},
   "outputs": [
    {
     "name": "stdout",
     "output_type": "stream",
     "text": [
      "Original Array:  [[ 1.  3.  4.]\n",
      " [ 2. nan  6.]\n",
      " [ 7.  5.  9.]]\n",
      "Non Numeric Array:  [[1. 3. 4.]\n",
      " [7. 5. 9.]]\n"
     ]
    }
   ],
   "source": [
    "arr = np.array([[1,3,4],\n",
    "                [2,np.nan,6],\n",
    "                [7,5,9]])\n",
    "\n",
    "nonNumericRows = np.isnan(arr).any(axis=1)\n",
    "\n",
    "print(\"Original Array: \", arr)\n",
    "print(\"Non Numeric Array: \", arr[~nonNumericRows])"
   ]
  },
  {
   "cell_type": "markdown",
   "metadata": {},
   "source": [
    "# Question 6\n",
    "Remove single-dimensional entries from the shape of an array."
   ]
  },
  {
   "cell_type": "code",
   "execution_count": 8,
   "metadata": {},
   "outputs": [
    {
     "name": "stdout",
     "output_type": "stream",
     "text": [
      "Squeezed Array:  (5,)\n"
     ]
    }
   ],
   "source": [
    "arr = np.array([[1,3,1,4,7]])\n",
    "removed = np.squeeze(arr)\n",
    "print(\"Squeezed Array: \", removed.shape)"
   ]
  },
  {
   "cell_type": "markdown",
   "metadata": {},
   "source": [
    "# Question 7\n",
    "Find the number of occurences of a sequence in a NumPy array."
   ]
  },
  {
   "cell_type": "code",
   "execution_count": 9,
   "metadata": {},
   "outputs": [
    {
     "name": "stdout",
     "output_type": "stream",
     "text": [
      "No. of Occurences:  1\n"
     ]
    }
   ],
   "source": [
    "arr = np.array([[1,2,3],\n",
    "               [1,2,4]])\n",
    "sequence = np.array([1,2,3])\n",
    "\n",
    "arrStr = np.array2string(arr)\n",
    "sequenceStr = np.array2string(sequence)\n",
    "\n",
    "occurence = arrStr.count(sequenceStr)\n",
    "print(\"No. of Occurences: \", occurence)"
   ]
  },
  {
   "cell_type": "markdown",
   "metadata": {},
   "source": [
    "# Question 8\n",
    "Find the most frequent value in a Numpy array."
   ]
  },
  {
   "cell_type": "code",
   "execution_count": 10,
   "metadata": {},
   "outputs": [
    {
     "name": "stdout",
     "output_type": "stream",
     "text": [
      "Most Frequent Value:  2\n"
     ]
    }
   ],
   "source": [
    "arr = np.array([[1,2,3],\n",
    "                [2,4,5],\n",
    "                [5,6,7]])\n",
    "\n",
    "arrayFlatten = arr.flatten()\n",
    "count = np.bincount(arrayFlatten)\n",
    "FrequentValue = np.argmax(count)\n",
    "\n",
    "print(\"Most Frequent Value: \", FrequentValue)"
   ]
  },
  {
   "cell_type": "markdown",
   "metadata": {},
   "source": [
    "# Question 9\n",
    "Combining a one and a two-dimensional Numpy Array."
   ]
  },
  {
   "cell_type": "code",
   "execution_count": 11,
   "metadata": {},
   "outputs": [
    {
     "name": "stdout",
     "output_type": "stream",
     "text": [
      "[[1 2 3]\n",
      " [2 3 4]\n",
      " [6 8 4]]\n"
     ]
    }
   ],
   "source": [
    "arr1 = np.array([1,2,3])\n",
    "arr2 = np.array([[2,3,4],\n",
    "                [6,8,4]])\n",
    "\n",
    "combinedArr = np.vstack((arr1,arr2))\n",
    "print(combinedArr)"
   ]
  },
  {
   "cell_type": "markdown",
   "metadata": {},
   "source": [
    "# Question 10\n",
    "How to build an array of all combinations of two Numpy arrays?"
   ]
  },
  {
   "cell_type": "code",
   "execution_count": 12,
   "metadata": {},
   "outputs": [
    {
     "name": "stdout",
     "output_type": "stream",
     "text": [
      "Combined Array: [[1 4]\n",
      " [2 4]\n",
      " [3 4]\n",
      " [1 5]\n",
      " [2 5]\n",
      " [3 5]\n",
      " [1 6]\n",
      " [2 6]\n",
      " [3 6]]\n"
     ]
    }
   ],
   "source": [
    "arr1 = np.array([1, 2, 3])\n",
    "arr2 = np.array([4, 5, 6])\n",
    "\n",
    "gridArr1, gridArr2 = np.meshgrid(arr1, arr2)\n",
    "\n",
    "combinedArray = np.column_stack((gridArr1.ravel(), gridArr2.ravel()))\n",
    "\n",
    "print(\"Combined Array:\", combinedArray)"
   ]
  },
  {
   "cell_type": "markdown",
   "metadata": {},
   "source": [
    "# Question 11\n",
    "How to add a border around Numpy array?"
   ]
  },
  {
   "cell_type": "code",
   "execution_count": 13,
   "metadata": {},
   "outputs": [
    {
     "name": "stdout",
     "output_type": "stream",
     "text": [
      "[[0 0 0 0 0 0 0]\n",
      " [0 0 0 0 0 0 0]\n",
      " [0 0 1 2 3 0 0]\n",
      " [0 0 2 5 6 0 0]\n",
      " [0 0 7 8 9 0 0]\n",
      " [0 0 0 0 0 0 0]\n",
      " [0 0 0 0 0 0 0]]\n"
     ]
    }
   ],
   "source": [
    "arr = np.array([[1,2,3],\n",
    "                [2,5,6],\n",
    "                [7,8,9]])\n",
    "\n",
    "BorderSize = 2\n",
    "\n",
    "BorderArr = np.pad(arr, pad_width=BorderSize, mode='constant')\n",
    "print(BorderArr)"
   ]
  },
  {
   "cell_type": "markdown",
   "metadata": {},
   "source": [
    "# Question 12\n",
    "How to compare two Numpy arrays?"
   ]
  },
  {
   "cell_type": "code",
   "execution_count": 14,
   "metadata": {},
   "outputs": [
    {
     "name": "stdout",
     "output_type": "stream",
     "text": [
      "[False False  True]\n"
     ]
    }
   ],
   "source": [
    "arr1 = np.array([1,2,3])\n",
    "arr2 = np.array([2,4,3])\n",
    "\n",
    "result = arr1==arr2\n",
    "print(result)"
   ]
  },
  {
   "cell_type": "markdown",
   "metadata": {},
   "source": [
    "# Question 13\n",
    "How to check whether specified values are present in Numpy array?"
   ]
  },
  {
   "cell_type": "code",
   "execution_count": 15,
   "metadata": {},
   "outputs": [
    {
     "name": "stdout",
     "output_type": "stream",
     "text": [
      "[False  True False False  True]\n"
     ]
    }
   ],
   "source": [
    "arr = np.array([1,2,3,4,5])\n",
    "specified = [2,5,6]\n",
    "result = np.isin(arr, specified)\n",
    "print(result)"
   ]
  },
  {
   "cell_type": "markdown",
   "metadata": {},
   "source": [
    "# Question 14\n",
    "How to get all 2D diagonals of a 3D Numpy array?"
   ]
  },
  {
   "cell_type": "code",
   "execution_count": 16,
   "metadata": {},
   "outputs": [
    {
     "name": "stdout",
     "output_type": "stream",
     "text": [
      "[1 5 9]\n"
     ]
    }
   ],
   "source": [
    "arr3d = np.array([[[1,2,3],[4,5,6],[7,8,9],[10,11,12]]])\n",
    "diagonals2D = [np.diag(arr3d[i]) for i in range(arr3d.shape[0])]\n",
    "\n",
    "for diagonals in diagonals2D:\n",
    "    print(diagonals)"
   ]
  },
  {
   "cell_type": "markdown",
   "metadata": {},
   "source": [
    "# Question 15\n",
    "Flatten a matrix in Python"
   ]
  },
  {
   "cell_type": "code",
   "execution_count": 17,
   "metadata": {},
   "outputs": [
    {
     "name": "stdout",
     "output_type": "stream",
     "text": [
      "[1 2 3 2 4 5]\n"
     ]
    }
   ],
   "source": [
    "matrix = np.array([[1,2,3],[2,4,5]])\n",
    "flatten = matrix.flatten()\n",
    "print(flatten)"
   ]
  },
  {
   "cell_type": "markdown",
   "metadata": {},
   "source": [
    "# Question 16\n",
    "Flatten a 2D numpy into 1D"
   ]
  },
  {
   "cell_type": "code",
   "execution_count": 18,
   "metadata": {},
   "outputs": [
    {
     "name": "stdout",
     "output_type": "stream",
     "text": [
      "[1 2 3 1 5 7]\n"
     ]
    }
   ],
   "source": [
    "arr2d = np.array([[1,2,3],[1,5,7]])\n",
    "flatten = np.ravel(arr2d)\n",
    "print(flatten)"
   ]
  },
  {
   "cell_type": "markdown",
   "metadata": {},
   "source": [
    "# Question 17\n",
    "Move axes of an array to new positions"
   ]
  },
  {
   "cell_type": "code",
   "execution_count": 19,
   "metadata": {},
   "outputs": [
    {
     "name": "stdout",
     "output_type": "stream",
     "text": [
      "(2, 3, 4)\n",
      "(3, 4, 2)\n"
     ]
    }
   ],
   "source": [
    "arr = np.zeros((2,3,4))\n",
    "movedArr = np.moveaxis(arr,(2,0,1),(1,2,0))\n",
    "print(arr.shape)\n",
    "print(movedArr.shape)"
   ]
  },
  {
   "cell_type": "markdown",
   "metadata": {},
   "source": [
    "# Question 18\n",
    "Interchange two axes of an array"
   ]
  },
  {
   "cell_type": "code",
   "execution_count": 20,
   "metadata": {},
   "outputs": [
    {
     "name": "stdout",
     "output_type": "stream",
     "text": [
      "(2, 3, 4)\n",
      "(3, 2, 4)\n"
     ]
    }
   ],
   "source": [
    "arr = np.zeros((2,3,4))\n",
    "InterchangedArr = np.swapaxes(arr, 0 , 1)\n",
    "print(arr.shape)\n",
    "print(InterchangedArr.shape)"
   ]
  },
  {
   "cell_type": "markdown",
   "metadata": {},
   "source": [
    "# Question 19\n",
    "Numpy - Fibonacci Series using Binet Formula"
   ]
  },
  {
   "cell_type": "code",
   "execution_count": 21,
   "metadata": {},
   "outputs": [
    {
     "name": "stdout",
     "output_type": "stream",
     "text": [
      "[0, 1, 1, 2, 3, 5, 8, 13, 21, 34]\n"
     ]
    }
   ],
   "source": [
    "def fibonacciBinet(n):\n",
    "    sqrt5 = np.sqrt(5)\n",
    "    phi = (1+sqrt5)/2\n",
    "    fibN = np.rint((phi**n-(-1/phi)**n)/sqrt5)\n",
    "    return fibN.astype(int)\n",
    "\n",
    "n = 10\n",
    "fibSeries = [fibonacciBinet(i) for i in range(n)]\n",
    "print(fibSeries)"
   ]
  },
  {
   "cell_type": "markdown",
   "metadata": {},
   "source": [
    "# Question 20\n",
    "Count the number of non-zero values in the array"
   ]
  },
  {
   "cell_type": "code",
   "execution_count": 22,
   "metadata": {},
   "outputs": [
    {
     "name": "stdout",
     "output_type": "stream",
     "text": [
      "6\n"
     ]
    }
   ],
   "source": [
    "arr = np.array([[1,0,3],[2,0,0],[9,1,2]])\n",
    "NonZeroCount = np.count_nonzero(arr)\n",
    "print(NonZeroCount)"
   ]
  },
  {
   "cell_type": "markdown",
   "metadata": {},
   "source": [
    "# Question 21\n",
    "Count the number of elements along the given axis"
   ]
  },
  {
   "cell_type": "code",
   "execution_count": 23,
   "metadata": {},
   "outputs": [
    {
     "name": "stdout",
     "output_type": "stream",
     "text": [
      "3\n",
      "3\n"
     ]
    }
   ],
   "source": [
    "arr = np.array([[1,2,3], [2,3,4],[7,4,3]])\n",
    "print(arr.shape[0])\n",
    "print(arr.shape[1])"
   ]
  },
  {
   "cell_type": "markdown",
   "metadata": {},
   "source": [
    "# Question 22\n",
    "Trim the leading and/or trailing zeroes from a 1-D Array"
   ]
  },
  {
   "cell_type": "code",
   "execution_count": 24,
   "metadata": {},
   "outputs": [
    {
     "name": "stdout",
     "output_type": "stream",
     "text": [
      "[0 0 0 0 1 1 2 3 4 5 0 0 0]\n",
      "[1 1 2 3 4 5 0 0 0]\n",
      "[0 0 0 0 1 1 2 3 4 5]\n"
     ]
    }
   ],
   "source": [
    "arr = np.array([0,0,0,0,1,1,2,3,4,5,0,0,0])\n",
    "trimArrLeading = arr[np.argmax(arr!=0):]\n",
    "trimArrTrailing = arr[:len(arr)-np.argmax(arr[::-1]!=0)]\n",
    "print(arr)\n",
    "print(trimArrLeading)\n",
    "print(trimArrTrailing)"
   ]
  },
  {
   "cell_type": "markdown",
   "metadata": {},
   "source": [
    "# Question 23\n",
    "Change data type of a given numpy array"
   ]
  },
  {
   "cell_type": "code",
   "execution_count": 25,
   "metadata": {},
   "outputs": [
    {
     "name": "stdout",
     "output_type": "stream",
     "text": [
      "[1. 2. 3. 4. 5.]\n"
     ]
    }
   ],
   "source": [
    "arr = np.array([1,2,3,4,5])\n",
    "arrFloat = arr.astype(float)\n",
    "print(arrFloat)"
   ]
  },
  {
   "cell_type": "markdown",
   "metadata": {},
   "source": [
    "# Question 24\n",
    "Reverse a numpy array"
   ]
  },
  {
   "cell_type": "code",
   "execution_count": 26,
   "metadata": {},
   "outputs": [
    {
     "name": "stdout",
     "output_type": "stream",
     "text": [
      "[1 2 3 4 5]\n",
      "[5 4 3 2 1]\n"
     ]
    }
   ],
   "source": [
    "arr = np.array([1,2,3,4,5])\n",
    "ReversedArr = arr[::-1]\n",
    "print(arr)\n",
    "print(ReversedArr)"
   ]
  },
  {
   "cell_type": "markdown",
   "metadata": {},
   "source": [
    "# Question 25\n",
    "How to make a Numpy array read-only?"
   ]
  },
  {
   "cell_type": "code",
   "execution_count": 27,
   "metadata": {},
   "outputs": [
    {
     "name": "stdout",
     "output_type": "stream",
     "text": [
      "Error assignment destination is read-only\n",
      "True\n"
     ]
    }
   ],
   "source": [
    "arr = np.array([1,2,3,4,5])\n",
    "arr.setflags(write=False)\n",
    "try:\n",
    "    arr[0] = 10\n",
    "except ValueError as e:\n",
    "    print(\"Error\", e)\n",
    "\n",
    "print(not arr.flags.writeable)"
   ]
  },
  {
   "cell_type": "markdown",
   "metadata": {},
   "source": [
    "# Questions on Numpy Matrix"
   ]
  },
  {
   "cell_type": "markdown",
   "metadata": {},
   "source": [
    "# Question 26\n",
    "Get the maximum value of a given matrix"
   ]
  },
  {
   "cell_type": "code",
   "execution_count": 28,
   "metadata": {},
   "outputs": [
    {
     "name": "stdout",
     "output_type": "stream",
     "text": [
      "9\n"
     ]
    }
   ],
   "source": [
    "matrix = np.array([[1,2,3], [1,4,5],[8,9,3]])\n",
    "maxVal = np.amax(matrix)\n",
    "print(maxVal)"
   ]
  },
  {
   "cell_type": "markdown",
   "metadata": {},
   "source": [
    "# Question 27\n",
    "Get the minimum value of a matrix"
   ]
  },
  {
   "cell_type": "code",
   "execution_count": 29,
   "metadata": {},
   "outputs": [
    {
     "name": "stdout",
     "output_type": "stream",
     "text": [
      "1\n"
     ]
    }
   ],
   "source": [
    "matrix = np.array([[1,2,3], [1,4,5],[8,9,3]])\n",
    "minVal = np.amin(matrix)\n",
    "print(minVal)"
   ]
  },
  {
   "cell_type": "markdown",
   "metadata": {},
   "source": [
    "# Question 28\n",
    "Find the number of rows and columns of a given matrix using Numpy."
   ]
  },
  {
   "cell_type": "code",
   "execution_count": 30,
   "metadata": {},
   "outputs": [
    {
     "name": "stdout",
     "output_type": "stream",
     "text": [
      "(3, 3)\n"
     ]
    }
   ],
   "source": [
    "matrix = np.array([[1,2,3],[2,3,4],[7,8,9]])\n",
    "print(np.shape(matrix))"
   ]
  },
  {
   "cell_type": "markdown",
   "metadata": {},
   "source": [
    "# Question 29\n",
    "Select the elements from a given matrix"
   ]
  },
  {
   "cell_type": "code",
   "execution_count": 31,
   "metadata": {},
   "outputs": [
    {
     "name": "stdout",
     "output_type": "stream",
     "text": [
      "[1 3 9]\n"
     ]
    }
   ],
   "source": [
    "matrix = np.array([[1,2,3],[2,3,4],[7,8,9]])\n",
    "SelectedEle = matrix[[0,1,2],[0,1,2]]\n",
    "print(SelectedEle)"
   ]
  },
  {
   "cell_type": "markdown",
   "metadata": {},
   "source": [
    "# Question 30\n",
    "Find the sum of values"
   ]
  },
  {
   "cell_type": "code",
   "execution_count": 32,
   "metadata": {},
   "outputs": [
    {
     "name": "stdout",
     "output_type": "stream",
     "text": [
      "39\n"
     ]
    }
   ],
   "source": [
    "matrix = np.array([[1,2,3],[2,3,4],[7,8,9]])\n",
    "print(np.sum(matrix))"
   ]
  },
  {
   "cell_type": "markdown",
   "metadata": {},
   "source": [
    "# Question 31\n",
    "Calculate the sum of the diagonal elements of a Numpy array"
   ]
  },
  {
   "cell_type": "code",
   "execution_count": 33,
   "metadata": {},
   "outputs": [
    {
     "name": "stdout",
     "output_type": "stream",
     "text": [
      "13\n"
     ]
    }
   ],
   "source": [
    "matrix = np.array([[1,2,3],[2,3,4],[7,8,9]])\n",
    "print(np.trace(matrix))"
   ]
  },
  {
   "cell_type": "markdown",
   "metadata": {},
   "source": [
    "# Question 32\n",
    "Adding and Subtracting Matrices in Python."
   ]
  },
  {
   "cell_type": "code",
   "execution_count": 34,
   "metadata": {},
   "outputs": [
    {
     "name": "stdout",
     "output_type": "stream",
     "text": [
      "[[11 14 16]\n",
      " [14 26 47]\n",
      " [24 56 88]]\n",
      "[[ -9 -10 -10]\n",
      " [-10 -20 -39]\n",
      " [-10 -40 -70]]\n"
     ]
    }
   ],
   "source": [
    "matrix1 = np.array([[1,2,3],[2,3,4],[7,8,9]])\n",
    "matrix2 = np.array([[10,12,13],[12,23,43],[17,48,79]])\n",
    "\n",
    "msum = matrix1 + matrix2\n",
    "print(msum)\n",
    "mdiff = matrix1 - matrix2\n",
    "print(mdiff)"
   ]
  },
  {
   "cell_type": "markdown",
   "metadata": {},
   "source": [
    "# Question 33\n",
    "Ways to add rows/columns in numpy array."
   ]
  },
  {
   "cell_type": "code",
   "execution_count": 35,
   "metadata": {},
   "outputs": [
    {
     "name": "stdout",
     "output_type": "stream",
     "text": [
      "[[1 2 3]\n",
      " [2 3 4]\n",
      " [7 8 9]]\n",
      "[[ 1  2  3 10]\n",
      " [ 2  3  4 11]]\n"
     ]
    }
   ],
   "source": [
    "arr = np.array([[1,2,3],[2,3,4]])\n",
    "newRow = np.array([7,8,9])\n",
    "ArrWithNewRow = np.vstack([arr,newRow])\n",
    "\n",
    "newCol = np.array([[10],[11]])\n",
    "ArrWithNewCol = np.hstack([arr,newCol])\n",
    "print(ArrWithNewRow)\n",
    "print(ArrWithNewCol)"
   ]
  },
  {
   "cell_type": "markdown",
   "metadata": {},
   "source": [
    "# Question 34\n",
    "Matrix Multiplication in Numpy."
   ]
  },
  {
   "cell_type": "code",
   "execution_count": 36,
   "metadata": {},
   "outputs": [
    {
     "name": "stdout",
     "output_type": "stream",
     "text": [
      "[[ 58  92 168]\n",
      " [ 90 125 244]\n",
      " [250 290 624]]\n"
     ]
    }
   ],
   "source": [
    "matrix = np.array([[1,2,3],[2,3,4],[7,8,9]])\n",
    "matrix2 = np.array([[13,2,23],[12,3,14],[7,28,39]])\n",
    "result = np.dot(matrix,matrix2)\n",
    "print(result)"
   ]
  },
  {
   "cell_type": "markdown",
   "metadata": {},
   "source": [
    "# Question 35\n",
    "Get the eigen values of a matrix"
   ]
  },
  {
   "cell_type": "code",
   "execution_count": 37,
   "metadata": {},
   "outputs": [
    {
     "name": "stdout",
     "output_type": "stream",
     "text": [
      "[-0.37228132  5.37228132]\n"
     ]
    }
   ],
   "source": [
    "matrix = np.array([[1,2],[3,4]])\n",
    "eigenvalue = np.linalg.eigvals(matrix)\n",
    "print(eigenvalue)"
   ]
  },
  {
   "cell_type": "markdown",
   "metadata": {},
   "source": [
    "# Question 36\n",
    "How to Calculate the determinant of a matrix using Numpy"
   ]
  },
  {
   "cell_type": "code",
   "execution_count": 38,
   "metadata": {},
   "outputs": [
    {
     "name": "stdout",
     "output_type": "stream",
     "text": [
      "0.0\n"
     ]
    }
   ],
   "source": [
    "matrix = np.array([[1,2,3],[2,3,4],[7,8,9]])\n",
    "determinant = np.linalg.det(matrix)\n",
    "print(determinant)"
   ]
  },
  {
   "cell_type": "markdown",
   "metadata": {},
   "source": [
    "# Question 37\n",
    "How to inverse a matrix using Numpy?"
   ]
  },
  {
   "cell_type": "code",
   "execution_count": 39,
   "metadata": {},
   "outputs": [
    {
     "name": "stdout",
     "output_type": "stream",
     "text": [
      "[[-2.   1. ]\n",
      " [ 1.5 -0.5]]\n"
     ]
    }
   ],
   "source": [
    "matrix = np.array([[1,2],[3,4]])\n",
    "Inverse = np.linalg.inv(matrix)\n",
    "print(Inverse)"
   ]
  },
  {
   "cell_type": "markdown",
   "metadata": {},
   "source": [
    "# Question 38\n",
    "How to count the frequency of unique values in Numpy array?"
   ]
  },
  {
   "cell_type": "code",
   "execution_count": 40,
   "metadata": {},
   "outputs": [
    {
     "name": "stdout",
     "output_type": "stream",
     "text": [
      "Value:1,Count:1\n",
      "Value:2,Count:2\n",
      "Value:3,Count:2\n",
      "Value:4,Count:1\n"
     ]
    }
   ],
   "source": [
    "matrix = np.array([[1,2],[3,4]])\n",
    "unique, counts = np.unique(arr,return_counts=True)\n",
    "for value, count in zip(unique, counts):\n",
    "    print(f\"Value:{value},Count:{count}\")"
   ]
  },
  {
   "cell_type": "markdown",
   "metadata": {},
   "source": [
    "# Question 39\n",
    "Multiply matrices of a complex number using Numpy in Python"
   ]
  },
  {
   "cell_type": "code",
   "execution_count": 41,
   "metadata": {},
   "outputs": [
    {
     "name": "stdout",
     "output_type": "stream",
     "text": [
      "[[-18. +58.j -20. +66.j]\n",
      " [-22.+114.j -24.+130.j]]\n"
     ]
    }
   ],
   "source": [
    "n1 = np.array([[1+2j,2+3j],[3+4j,4+5j]])\n",
    "n2 = np.array([[5+6j,6+7j],[8+9j,9+10j]])\n",
    "\n",
    "result = np.dot(n1,n2)\n",
    "print(result)"
   ]
  },
  {
   "cell_type": "markdown",
   "metadata": {},
   "source": [
    "# Question 40\n",
    "Compute the outer product of two given vectors using Numpy"
   ]
  },
  {
   "cell_type": "code",
   "execution_count": 42,
   "metadata": {},
   "outputs": [
    {
     "name": "stdout",
     "output_type": "stream",
     "text": [
      "[[ 2  4  5]\n",
      " [ 4  8 10]\n",
      " [ 6 12 15]]\n"
     ]
    }
   ],
   "source": [
    "vector1 = np.array([1,2,3])\n",
    "vector2 = np.array([2,4,5])\n",
    "outer = np.outer(vector1,vector2)\n",
    "print(outer)"
   ]
  },
  {
   "cell_type": "markdown",
   "metadata": {},
   "source": [
    "# Quetsion 41\n",
    "Calculate the inner outer and cross poduct of matrices and vectors using numpy arrays"
   ]
  },
  {
   "cell_type": "code",
   "execution_count": 44,
   "metadata": {},
   "outputs": [
    {
     "name": "stdout",
     "output_type": "stream",
     "text": [
      "25\n",
      "[[ 2  4  5]\n",
      " [ 4  8 10]\n",
      " [ 6 12 15]]\n",
      "[-2  1  0]\n",
      "[[ 65 103]\n",
      " [131 227]]\n"
     ]
    }
   ],
   "source": [
    "matrix = np.array([[1,2],[3,4]])\n",
    "matrix2 = np.array([[1,21],[32,41]])\n",
    "vector1 = np.array([1,2,3])\n",
    "vector2 = np.array([2,4,5])\n",
    "innerpro = np.inner(vector1, vector2)\n",
    "outerpro = np.outer(vector1, vector2)\n",
    "crosspro = np.cross(vector1, vector2)\n",
    "matrixpro = np.dot(matrix, matrix2)\n",
    "\n",
    "print(innerpro)\n",
    "print(outerpro)\n",
    "print(crosspro)\n",
    "print(matrixpro)"
   ]
  },
  {
   "cell_type": "markdown",
   "metadata": {},
   "source": [
    "# Question 42\n",
    "Compute the covariance matrix of two given numpy arrays"
   ]
  },
  {
   "cell_type": "code",
   "execution_count": 45,
   "metadata": {},
   "outputs": [
    {
     "name": "stdout",
     "output_type": "stream",
     "text": [
      "[[1. 1.]\n",
      " [1. 1.]]\n"
     ]
    }
   ],
   "source": [
    "arr1 = np.array([1,2,3])\n",
    "arr2 = np.array([4,5,6])\n",
    "cov = np.cov(arr1,arr2)\n",
    "print(cov)"
   ]
  },
  {
   "cell_type": "markdown",
   "metadata": {},
   "source": [
    "# Question 43\n",
    "Convert the covariance matrix to correlation matrix using python."
   ]
  },
  {
   "cell_type": "code",
   "execution_count": 46,
   "metadata": {},
   "outputs": [
    {
     "name": "stdout",
     "output_type": "stream",
     "text": [
      "[[1.         0.40824829]\n",
      " [0.40824829 1.        ]]\n"
     ]
    }
   ],
   "source": [
    "cov = np.array([[2.0,1.0],[1.0,3.0]])\n",
    "std_dev = np.sqrt(np.diag(cov))\n",
    "corr = cov/np.outer(std_dev,std_dev)\n",
    "print(corr)"
   ]
  },
  {
   "cell_type": "markdown",
   "metadata": {},
   "source": [
    "# Question 44\n",
    "Compute the Kronecker product of two multidimensionNumpy Arrays"
   ]
  },
  {
   "cell_type": "code",
   "execution_count": 47,
   "metadata": {},
   "outputs": [
    {
     "name": "stdout",
     "output_type": "stream",
     "text": [
      "[[ 5  6 10 12]\n",
      " [ 7  8 14 16]\n",
      " [15 18 20 24]\n",
      " [21 24 28 32]]\n"
     ]
    }
   ],
   "source": [
    "arr1 = np.array([[1,2],[3,4]])\n",
    "arr2 = np.array([[5,6],[7,8]])\n",
    "\n",
    "kron = np.kron(arr1,arr2)\n",
    "print(kron)"
   ]
  },
  {
   "cell_type": "markdown",
   "metadata": {},
   "source": [
    "# Question 45\n",
    "Convert the matrix into list"
   ]
  },
  {
   "cell_type": "code",
   "execution_count": 49,
   "metadata": {},
   "outputs": [
    {
     "name": "stdout",
     "output_type": "stream",
     "text": [
      "[[1, 2, 3], [4, 5, 6], [7, 8, 9]]\n"
     ]
    }
   ],
   "source": [
    "matrix = np.array([[1,2,3],[4,5,6],[7,8,9]])\n",
    "matrixList = matrix.tolist()\n",
    "print(matrixList)"
   ]
  }
 ],
 "metadata": {
  "kernelspec": {
   "display_name": "Python 3 (ipykernel)",
   "language": "python",
   "name": "python3"
  },
  "language_info": {
   "codemirror_mode": {
    "name": "ipython",
    "version": 3
   },
   "file_extension": ".py",
   "mimetype": "text/x-python",
   "name": "python",
   "nbconvert_exporter": "python",
   "pygments_lexer": "ipython3",
   "version": "3.11.5"
  }
 },
 "nbformat": 4,
 "nbformat_minor": 2
}
