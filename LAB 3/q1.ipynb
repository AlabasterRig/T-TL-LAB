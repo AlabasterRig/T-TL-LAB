{
 "cells": [
  {
   "cell_type": "code",
   "execution_count": 1,
   "metadata": {},
   "outputs": [
    {
     "name": "stdout",
     "output_type": "stream",
     "text": [
      "<class 'list'>\n"
     ]
    }
   ],
   "source": [
    "newlists = [\"apple\", \"orange\", \"banana\"]\n",
    "print(type(newlists))"
   ]
  },
  {
   "cell_type": "code",
   "execution_count": 2,
   "metadata": {},
   "outputs": [
    {
     "name": "stdout",
     "output_type": "stream",
     "text": [
      "5\n"
     ]
    }
   ],
   "source": [
    "list1 = [\"man\", 45, True, 56, \"male\"]\n",
    "print(len(list1))"
   ]
  },
  {
   "cell_type": "code",
   "execution_count": 4,
   "metadata": {},
   "outputs": [
    {
     "name": "stdout",
     "output_type": "stream",
     "text": [
      "['apple', 'orange', 'banana']\n"
     ]
    }
   ],
   "source": [
    "fruit = list((\"apple\", \"orange\", \"banana\"))\n",
    "print(fruit)"
   ]
  },
  {
   "cell_type": "code",
   "execution_count": 7,
   "metadata": {},
   "outputs": [
    {
     "name": "stdout",
     "output_type": "stream",
     "text": [
      "orange\n"
     ]
    }
   ],
   "source": [
    "list1 = [\"apple\", \"orange\", \"banana\"]\n",
    "print(list1[-2])"
   ]
  },
  {
   "cell_type": "code",
   "execution_count": 8,
   "metadata": {},
   "outputs": [
    {
     "name": "stdout",
     "output_type": "stream",
     "text": [
      "yes\n"
     ]
    }
   ],
   "source": [
    "list2 = [\"apple\", \"orange\", \"banana\", \"mango\", \"cherry\", \"kiwi\", \"melon\"]\n",
    "if \"mango\" in list2:\n",
    "    print(\"yes\")"
   ]
  },
  {
   "cell_type": "code",
   "execution_count": 9,
   "metadata": {},
   "outputs": [
    {
     "name": "stdout",
     "output_type": "stream",
     "text": [
      "['apple', 'kiwi', 'banana']\n"
     ]
    }
   ],
   "source": [
    "list1 = [\"apple\", \"orange\", \"banana\"]\n",
    "list1[1] = \"kiwi\"\n",
    "print(list1)"
   ]
  },
  {
   "cell_type": "code",
   "execution_count": 14,
   "metadata": {},
   "outputs": [
    {
     "name": "stdout",
     "output_type": "stream",
     "text": [
      "['banana', 'mango', 'cherry']\n"
     ]
    }
   ],
   "source": [
    "list2 = [\"apple\", \"orange\", \"banana\", \"mango\", \"cherry\", \"kiwi\", \"melon\"]\n",
    "#List2[1:3] = [\"brinjal\", \"tomato\"]\n",
    "print(list2[2:5])"
   ]
  },
  {
   "cell_type": "code",
   "execution_count": 15,
   "metadata": {},
   "outputs": [
    {
     "name": "stdout",
     "output_type": "stream",
     "text": [
      "['apple', 'aaa', 'bbb', 'banana']\n"
     ]
    }
   ],
   "source": [
    "list1 = [\"apple\", \"orange\", \"banana\"]\n",
    "list1[1:2] = [\"aaa\", \"bbb\"]\n",
    "print(list1)"
   ]
  },
  {
   "cell_type": "code",
   "execution_count": 16,
   "metadata": {},
   "outputs": [
    {
     "name": "stdout",
     "output_type": "stream",
     "text": [
      "['apple', 'orange', 'berry', 'banana']\n"
     ]
    }
   ],
   "source": [
    "list1 = [\"apple\", \"orange\", \"banana\"]\n",
    "list1.insert(2, \"berry\")\n",
    "print(list1)"
   ]
  },
  {
   "cell_type": "code",
   "execution_count": 17,
   "metadata": {},
   "outputs": [
    {
     "name": "stdout",
     "output_type": "stream",
     "text": [
      "['apple', 'orange', 'berry']\n"
     ]
    }
   ],
   "source": [
    "list1 = [\"apple\", \"orange\", \"banana\"]\n",
    "list1[2] = \"berry\"\n",
    "print(list1)"
   ]
  },
  {
   "cell_type": "code",
   "execution_count": 18,
   "metadata": {},
   "outputs": [
    {
     "name": "stdout",
     "output_type": "stream",
     "text": [
      "['apple', 'orange', 'banana', 'cherry']\n"
     ]
    }
   ],
   "source": [
    "list1 = [\"apple\", \"orange\", \"banana\"]\n",
    "list1.append(\"cherry\")\n",
    "print(list1)"
   ]
  },
  {
   "cell_type": "code",
   "execution_count": null,
   "metadata": {},
   "outputs": [],
   "source": [
    "list1 = [\"apple\", \"orange\", \"banana\"]"
   ]
  }
 ],
 "metadata": {
  "kernelspec": {
   "display_name": "Python 3 (ipykernel)",
   "language": "python",
   "name": "python3"
  },
  "language_info": {
   "codemirror_mode": {
    "name": "ipython",
    "version": 3
   },
   "file_extension": ".py",
   "mimetype": "text/x-python",
   "name": "python",
   "nbconvert_exporter": "python",
   "pygments_lexer": "ipython3",
   "version": "3.11.5"
  }
 },
 "nbformat": 4,
 "nbformat_minor": 2
}
