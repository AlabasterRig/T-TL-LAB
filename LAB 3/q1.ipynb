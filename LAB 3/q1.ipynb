{
 "cells": [
  {
   "cell_type": "code",
   "execution_count": 1,
   "metadata": {},
   "outputs": [
    {
     "name": "stdout",
     "output_type": "stream",
     "text": [
      "<class 'list'>\n"
     ]
    }
   ],
   "source": [
    "newlists = [\"apple\", \"orange\", \"banana\"]\n",
    "print(type(newlists))"
   ]
  },
  {
   "cell_type": "code",
   "execution_count": 2,
   "metadata": {},
   "outputs": [
    {
     "name": "stdout",
     "output_type": "stream",
     "text": [
      "5\n"
     ]
    }
   ],
   "source": [
    "list1 = [\"man\", 45, True, 56, \"male\"]\n",
    "print(len(list1))"
   ]
  },
  {
   "cell_type": "code",
   "execution_count": 4,
   "metadata": {},
   "outputs": [
    {
     "name": "stdout",
     "output_type": "stream",
     "text": [
      "['apple', 'orange', 'banana']\n"
     ]
    }
   ],
   "source": [
    "fruit = list((\"apple\", \"orange\", \"banana\"))\n",
    "print(fruit)"
   ]
  },
  {
   "cell_type": "code",
   "execution_count": 7,
   "metadata": {},
   "outputs": [
    {
     "name": "stdout",
     "output_type": "stream",
     "text": [
      "orange\n"
     ]
    }
   ],
   "source": [
    "list1 = [\"apple\", \"orange\", \"banana\"]\n",
    "print(list1[-2])"
   ]
  },
  {
   "cell_type": "code",
   "execution_count": 8,
   "metadata": {},
   "outputs": [
    {
     "name": "stdout",
     "output_type": "stream",
     "text": [
      "yes\n"
     ]
    }
   ],
   "source": [
    "list2 = [\"apple\", \"orange\", \"banana\", \"mango\", \"cherry\", \"kiwi\", \"melon\"]\n",
    "if \"mango\" in list2:\n",
    "    print(\"yes\")"
   ]
  },
  {
   "cell_type": "code",
   "execution_count": 9,
   "metadata": {},
   "outputs": [
    {
     "name": "stdout",
     "output_type": "stream",
     "text": [
      "['apple', 'kiwi', 'banana']\n"
     ]
    }
   ],
   "source": [
    "list1 = [\"apple\", \"orange\", \"banana\"]\n",
    "list1[1] = \"kiwi\"\n",
    "print(list1)"
   ]
  },
  {
   "cell_type": "code",
   "execution_count": 14,
   "metadata": {},
   "outputs": [
    {
     "name": "stdout",
     "output_type": "stream",
     "text": [
      "['banana', 'mango', 'cherry']\n"
     ]
    }
   ],
   "source": [
    "list2 = [\"apple\", \"orange\", \"banana\", \"mango\", \"cherry\", \"kiwi\", \"melon\"]\n",
    "#List2[1:3] = [\"brinjal\", \"tomato\"]\n",
    "print(list2[2:5])"
   ]
  },
  {
   "cell_type": "code",
   "execution_count": 15,
   "metadata": {},
   "outputs": [
    {
     "name": "stdout",
     "output_type": "stream",
     "text": [
      "['apple', 'aaa', 'bbb', 'banana']\n"
     ]
    }
   ],
   "source": [
    "list1 = [\"apple\", \"orange\", \"banana\"]\n",
    "list1[1:2] = [\"aaa\", \"bbb\"]\n",
    "print(list1)"
   ]
  },
  {
   "cell_type": "code",
   "execution_count": 16,
   "metadata": {},
   "outputs": [
    {
     "name": "stdout",
     "output_type": "stream",
     "text": [
      "['apple', 'orange', 'berry', 'banana']\n"
     ]
    }
   ],
   "source": [
    "list1 = [\"apple\", \"orange\", \"banana\"]\n",
    "list1.insert(2, \"berry\")\n",
    "print(list1)"
   ]
  },
  {
   "cell_type": "code",
   "execution_count": 17,
   "metadata": {},
   "outputs": [
    {
     "name": "stdout",
     "output_type": "stream",
     "text": [
      "['apple', 'orange', 'berry']\n"
     ]
    }
   ],
   "source": [
    "list1 = [\"apple\", \"orange\", \"banana\"]\n",
    "list1[2] = \"berry\"\n",
    "print(list1)"
   ]
  },
  {
   "cell_type": "code",
   "execution_count": 18,
   "metadata": {},
   "outputs": [
    {
     "name": "stdout",
     "output_type": "stream",
     "text": [
      "['apple', 'orange', 'banana', 'cherry']\n"
     ]
    }
   ],
   "source": [
    "list1 = [\"apple\", \"orange\", \"banana\"]\n",
    "list1.append(\"cherry\")\n",
    "print(list1)"
   ]
  },
  {
   "cell_type": "code",
   "execution_count": 19,
   "metadata": {},
   "outputs": [
    {
     "name": "stdout",
     "output_type": "stream",
     "text": [
      "['apple', 'orange', 'banana', 'mango', 'cherry']\n"
     ]
    }
   ],
   "source": [
    "list1 = [\"apple\", \"orange\", \"banana\"]\n",
    "#List2 = [\"aaa\", \"bbb\", \"ccc\"]\n",
    "tuple1 = (\"mango\", \"cherry\")\n",
    "list1.extend(tuple1)\n",
    "#List1.extend(List2)\n",
    "print(list1)"
   ]
  },
  {
   "cell_type": "code",
   "execution_count": 20,
   "metadata": {},
   "outputs": [
    {
     "name": "stdout",
     "output_type": "stream",
     "text": [
      "['apple', 'orange', 'banana']\n"
     ]
    }
   ],
   "source": [
    "list1 = [\"apple\", \"orange\", \"orange\", \"banana\"]\n",
    "list1.remove(\"orange\")\n",
    "print(list1)"
   ]
  },
  {
   "cell_type": "code",
   "execution_count": 21,
   "metadata": {},
   "outputs": [
    {
     "name": "stdout",
     "output_type": "stream",
     "text": [
      "['apple', 'banana']\n"
     ]
    }
   ],
   "source": [
    "list1 = [\"apple\", \"orange\", \"banana\"]\n",
    "list1.pop(1)\n",
    "print(list1)"
   ]
  },
  {
   "cell_type": "code",
   "execution_count": 22,
   "metadata": {},
   "outputs": [
    {
     "name": "stdout",
     "output_type": "stream",
     "text": [
      "[]\n"
     ]
    }
   ],
   "source": [
    "list1 = [\"apple\", \"orange\", \"banana\"]\n",
    "list1.clear()\n",
    "print(list1)"
   ]
  },
  {
   "cell_type": "code",
   "execution_count": 23,
   "metadata": {},
   "outputs": [
    {
     "name": "stdout",
     "output_type": "stream",
     "text": [
      "apple\n",
      "orange\n",
      "banana\n"
     ]
    }
   ],
   "source": [
    "list1 = [\"apple\", \"orange\", \"banana\"]\n",
    "for x in list1:\n",
    "    print(x)"
   ]
  },
  {
   "cell_type": "code",
   "execution_count": 25,
   "metadata": {},
   "outputs": [
    {
     "name": "stdout",
     "output_type": "stream",
     "text": [
      "apple\n",
      "orange\n",
      "banana\n"
     ]
    }
   ],
   "source": [
    "list1 = [\"apple\", \"orange\", \"banana\"]\n",
    "for i in range (len(list1)):\n",
    "    print(list1[i])"
   ]
  },
  {
   "cell_type": "code",
   "execution_count": 29,
   "metadata": {},
   "outputs": [
    {
     "name": "stdout",
     "output_type": "stream",
     "text": [
      "['apple', 'orange', 'banana']\n",
      "['apple', 'orange', 'banana']\n",
      "['apple', 'orange', 'banana']\n"
     ]
    }
   ],
   "source": [
    "list1 = [\"apple\", \"orange\", \"banana\"]\n",
    "i = 0\n",
    "while i < len(list1):\n",
    "    print(list1)\n",
    "    i = i + 1"
   ]
  },
  {
   "cell_type": "code",
   "execution_count": 30,
   "metadata": {},
   "outputs": [
    {
     "name": "stdout",
     "output_type": "stream",
     "text": [
      "apple\n",
      "orange\n",
      "banana\n"
     ]
    },
    {
     "data": {
      "text/plain": [
       "[None, None, None]"
      ]
     },
     "execution_count": 30,
     "metadata": {},
     "output_type": "execute_result"
    }
   ],
   "source": [
    "list1 = [\"apple\", \"orange\", \"banana\"]\n",
    "[print(x) for x in list1]"
   ]
  },
  {
   "cell_type": "code",
   "execution_count": 31,
   "metadata": {},
   "outputs": [
    {
     "name": "stdout",
     "output_type": "stream",
     "text": [
      "['banana', 'orange', 'apple']\n"
     ]
    }
   ],
   "source": [
    "list1 = [\"apple\", \"orange\", \"banana\"]\n",
    "list1.reverse()\n",
    "print(list1)"
   ]
  },
  {
   "cell_type": "code",
   "execution_count": 35,
   "metadata": {},
   "outputs": [
    {
     "name": "stdout",
     "output_type": "stream",
     "text": [
      "['apple', 'orange', 'banana']\n",
      "['apple', 'orange', 'banana']\n"
     ]
    }
   ],
   "source": [
    "list1 = [\"apple\", \"orange\", \"banana\"]\n",
    "list2 = list1\n",
    "print(list2)\n",
    "print(list1)"
   ]
  },
  {
   "cell_type": "code",
   "execution_count": 34,
   "metadata": {},
   "outputs": [
    {
     "name": "stdout",
     "output_type": "stream",
     "text": [
      "['apple', 'orange', 'banana', 'mango', 'kiwi']\n"
     ]
    }
   ],
   "source": [
    "list1 = [\"apple\", \"orange\", \"banana\"]\n",
    "list2 = [\"mango\", \"kiwi\"]\n",
    "list3 = list1 + list2\n",
    "print(list3)"
   ]
  },
  {
   "cell_type": "code",
   "execution_count": 36,
   "metadata": {},
   "outputs": [
    {
     "name": "stdout",
     "output_type": "stream",
     "text": [
      "3\n"
     ]
    }
   ],
   "source": [
    "thisList = [\"apple\", \"orange\", \"banana\"]\n",
    "print(len(thisList))"
   ]
  },
  {
   "cell_type": "code",
   "execution_count": 37,
   "metadata": {},
   "outputs": [
    {
     "name": "stdout",
     "output_type": "stream",
     "text": [
      "orange\n"
     ]
    }
   ],
   "source": [
    "list1 = [\"apple\", \"orange\", \"banana\"]\n",
    "print(list1[-2])"
   ]
  },
  {
   "cell_type": "code",
   "execution_count": 38,
   "metadata": {},
   "outputs": [
    {
     "name": "stdout",
     "output_type": "stream",
     "text": [
      "['apple', 'banana', 'cherry', 'kiwi', 'mango', 'melon', 'orange']\n"
     ]
    }
   ],
   "source": [
    "list2 = [\"apple\", \"orange\", \"banana\", \"mango\", \"cherry\", \"kiwi\", \"melon\"]\n",
    "list2.sort()\n",
    "print(list2)"
   ]
  },
  {
   "cell_type": "code",
   "execution_count": 39,
   "metadata": {},
   "outputs": [
    {
     "name": "stdout",
     "output_type": "stream",
     "text": [
      "[1, 2, 3, 4, 5, 6, 7, 8, 9, 10]\n"
     ]
    }
   ],
   "source": [
    "#List Comprehension\n",
    "list5 = [x for x in range(1,11)]\n",
    "print(list5)"
   ]
  },
  {
   "cell_type": "code",
   "execution_count": 40,
   "metadata": {},
   "outputs": [
    {
     "name": "stdout",
     "output_type": "stream",
     "text": [
      "['apple', 'orange', 'banana', 'cherry', 'kiwi', 'melon']\n"
     ]
    }
   ],
   "source": [
    "list2 = [\"apple\", \"orange\", \"banana\", \"mango\", \"cherry\", \"kiwi\", \"melon\"]\n",
    "del list2[3]\n",
    "print(list2)"
   ]
  },
  {
   "cell_type": "markdown",
   "metadata": {},
   "source": [
    "# Question 1\n",
    "Wap to create a list and display it, perform append and delete operation and display list."
   ]
  },
  {
   "cell_type": "code",
   "execution_count": 42,
   "metadata": {},
   "outputs": [
    {
     "name": "stdout",
     "output_type": "stream",
     "text": [
      "['Utkrist', 'Jaiswal', 21051526]\n",
      "['Utkrist', 'Jaiswal', 21051526, 22]\n",
      "['Utkrist', 'Jaiswal', 21051526]\n"
     ]
    }
   ],
   "source": [
    "list1 = [\"Utkrist\", \"Jaiswal\", 21051526]\n",
    "print(list1)\n",
    "list1.append(22)\n",
    "print(list1)\n",
    "del list1[3]\n",
    "print(list1)"
   ]
  },
  {
   "cell_type": "markdown",
   "metadata": {},
   "source": [
    "# Question 2\n",
    "WAP to create a list and display it, perform adding on element at particular position and delete at a particular position and siplay the updated list."
   ]
  },
  {
   "cell_type": "code",
   "execution_count": 46,
   "metadata": {},
   "outputs": [
    {
     "name": "stdout",
     "output_type": "stream",
     "text": [
      "['Utkrist', 'Jaiswal', 21051526]\n",
      "['Utkrist', 'Jaiswal', 21051526, 'CSE36']\n",
      "['Utkrist', 'Jaiswal', 21051526]\n"
     ]
    }
   ],
   "source": [
    "list1 = [\"Utkrist\", \"Jaiswal\", 21051526]\n",
    "print(list1)\n",
    "list1.insert(3, \"CSE36\")\n",
    "print(list1)\n",
    "del list1[3]\n",
    "print(list1)"
   ]
  },
  {
   "cell_type": "markdown",
   "metadata": {},
   "source": [
    "# Question 3\n",
    "WAP to create a list and display it, delete all occurances at a particular number and diplay the updated list"
   ]
  },
  {
   "cell_type": "code",
   "execution_count": 54,
   "metadata": {},
   "outputs": [
    {
     "name": "stdout",
     "output_type": "stream",
     "text": [
      "['Utkrist', 'Jaiswal', 22, 21051526, 'CSE36']\n",
      "['Utkrist', 'Jaiswal', 21051526, 'CSE36']\n"
     ]
    }
   ],
   "source": [
    "list1 = [\"Utkrist\", \"Jaiswal\", 22, 21051526, \"CSE36\"]\n",
    "print(list1)\n",
    "i = 0\n",
    "while i < len(list1):\n",
    "    if list1[i] == 22:\n",
    "        list1.remove(22)\n",
    "        print(list1)\n",
    "    i += 1\n"
   ]
  },
  {
   "cell_type": "markdown",
   "metadata": {},
   "source": [
    "# Question 4\n",
    "WAP to create a list and display it, store unique number in another list and display new list."
   ]
  },
  {
   "cell_type": "code",
   "execution_count": 71,
   "metadata": {},
   "outputs": [
    {
     "name": "stdout",
     "output_type": "stream",
     "text": [
      "['Utkrist', 'Jaiswal', 22, 21051526, 'CSE36', 22, 21051526, 'CSE36']\n",
      "['Utkrist', 'Jaiswal', 22, 21051526, 'CSE36']\n"
     ]
    }
   ],
   "source": [
    "list1 = [\"Utkrist\", \"Jaiswal\", 22, 21051526, \"CSE36\", 22, 21051526, \"CSE36\"]\n",
    "print(list1)\n",
    "list2 = []\n",
    "for str in list1:\n",
    "    if str not in list2:\n",
    "        list2.append(str)\n",
    "print(list2)"
   ]
  },
  {
   "cell_type": "markdown",
   "metadata": {},
   "source": [
    "# Question 5\n",
    "WAP to create a list and display it, delete falsy values, and display updated list."
   ]
  },
  {
   "cell_type": "code",
   "execution_count": 89,
   "metadata": {},
   "outputs": [
    {
     "name": "stdout",
     "output_type": "stream",
     "text": [
      "['Utkrist', 'Jaiswal', 22, 21051526, 'CSE36', 22, 21051526, 'CSE36', '']\n",
      "['Utkrist']\n"
     ]
    }
   ],
   "source": [
    "list1 = [\"Utkrist\", \"Jaiswal\", 22, 21051526, \"CSE36\", 22, 21051526, \"CSE36\", \"\"]\n",
    "print(list1)\n",
    "list2 = list(filter(lambda x: x == \"Utkrist\", list1))\n",
    "print(list2)"
   ]
  },
  {
   "cell_type": "markdown",
   "metadata": {},
   "source": [
    "# Question 6\n",
    "Python program to interchange first and last elements in a list"
   ]
  },
  {
   "cell_type": "code",
   "execution_count": 92,
   "metadata": {},
   "outputs": [
    {
     "name": "stdout",
     "output_type": "stream",
     "text": [
      "['CSE36', 'Jaiswal', 22, 21051526, 'Utkrist']\n"
     ]
    }
   ],
   "source": [
    "list1 = [\"Utkrist\", \"Jaiswal\", 22, 21051526, \"CSE36\"]\n",
    "i = len(list1) - 1\n",
    "j = 0\n",
    "temp = list1[i]\n",
    "list1[i] = list1[j]\n",
    "list1[j] = temp\n",
    "print(list1)"
   ]
  },
  {
   "cell_type": "markdown",
   "metadata": {},
   "source": [
    "# Question 7\n",
    "Python program to swap two elements in a list"
   ]
  },
  {
   "cell_type": "code",
   "execution_count": 113,
   "metadata": {},
   "outputs": [
    {
     "name": "stdout",
     "output_type": "stream",
     "text": [
      "[1, 4, 3, 2, 5, 6]\n"
     ]
    }
   ],
   "source": [
    "def swapp(x, y):\n",
    "    temp = x\n",
    "    x = y\n",
    "    y = temp\n",
    "    return x, y\n",
    "    \n",
    "list1 = [1,2,3,4,5,6]\n",
    "n = int(input(\"Enter Element to swap: \"))\n",
    "k = int(input(\"Enter Element to swap with: \"))\n",
    "\n",
    "list1[n], list1[k] = swapp(list1[n], list1[k])\n",
    "print(list1)"
   ]
  },
  {
   "cell_type": "markdown",
   "metadata": {},
   "source": [
    "# Question 8\n",
    "Swap elements in String list."
   ]
  },
  {
   "cell_type": "code",
   "execution_count": 123,
   "metadata": {},
   "outputs": [
    {
     "name": "stdout",
     "output_type": "stream",
     "text": [
      "['Jaiswal', 'Utkrist', 'CSE36']\n"
     ]
    }
   ],
   "source": [
    "def swapp(x, y):\n",
    "    temp = x\n",
    "    x = y\n",
    "    y = temp\n",
    "    return x, y\n",
    "    \n",
    "list1 = [\"Utkrist\", \"Jaiswal\", \"CSE36\"]\n",
    "n = int(input(\"Enter Element to swap: \"))\n",
    "k = int(input(\"Enter Element to swap with: \"))\n",
    "\n",
    "list1[n], list1[k] = swapp(list1[n], list1[k])\n",
    "print(list1)"
   ]
  },
  {
   "cell_type": "markdown",
   "metadata": {},
   "source": [
    "# Question 9\n",
    "Maximum of 2 numbers"
   ]
  },
  {
   "cell_type": "code",
   "execution_count": 114,
   "metadata": {},
   "outputs": [
    {
     "name": "stdout",
     "output_type": "stream",
     "text": [
      "Element is greater:  3\n"
     ]
    }
   ],
   "source": [
    "num1 = int(input(\"enter Number 1: \"))\n",
    "num2 = int(input(\"Enter Number 2: \"))\n",
    "\n",
    "if num1 > num2:\n",
    "    print(\"Element is greater: \", num1)\n",
    "else:\n",
    "    print(\"Element is greater: \", num2)"
   ]
  },
  {
   "cell_type": "markdown",
   "metadata": {},
   "source": [
    "# Question 10\n",
    "Python program to check if element exists in a list."
   ]
  },
  {
   "cell_type": "code",
   "execution_count": 122,
   "metadata": {},
   "outputs": [
    {
     "name": "stdout",
     "output_type": "stream",
     "text": [
      "Element exits\n"
     ]
    }
   ],
   "source": [
    "list1 = [1,2,3,4,5]\n",
    "x = 5\n",
    "if x == list1[i]:\n",
    "    print(\"Element exits\")"
   ]
  },
  {
   "cell_type": "markdown",
   "metadata": {},
   "source": [
    "# Question 11\n",
    "Python program to Reversing a List"
   ]
  },
  {
   "cell_type": "code",
   "execution_count": 124,
   "metadata": {},
   "outputs": [
    {
     "name": "stdout",
     "output_type": "stream",
     "text": [
      "[5, 4, 3, 2, 1]\n"
     ]
    }
   ],
   "source": [
    "list1 = [1,2,3,4,5]\n",
    "list1.reverse()\n",
    "print(list1)"
   ]
  },
  {
   "cell_type": "markdown",
   "metadata": {},
   "source": [
    "# Question 12\n",
    "Count occurrences of an element in a list."
   ]
  },
  {
   "cell_type": "code",
   "execution_count": 127,
   "metadata": {},
   "outputs": [
    {
     "name": "stdout",
     "output_type": "stream",
     "text": [
      "4\n"
     ]
    }
   ],
   "source": [
    "list1 = [1,2,3,3,4,3,3,5,1,2,7,8,9,0]\n",
    "n = int(input(\"Enter element: \"))\n",
    "count = 0\n",
    "for i in range (len(list1)):\n",
    "    if n == list1[i]:\n",
    "        count += 1\n",
    "\n",
    "print(count)"
   ]
  },
  {
   "cell_type": "markdown",
   "metadata": {},
   "source": [
    "# Question 13\n",
    "Python program to find second largest number in a list."
   ]
  },
  {
   "cell_type": "code",
   "execution_count": 130,
   "metadata": {},
   "outputs": [
    {
     "name": "stdout",
     "output_type": "stream",
     "text": [
      "[1, 1, 2, 2, 3, 3, 4, 5, 7, 9]\n",
      "[9, 7, 5, 4, 3, 3, 2, 2, 1, 1]\n",
      "Second Largest number:  7\n"
     ]
    }
   ],
   "source": [
    "list1 = [1,2,3,4,5,2,3,7,1,9]\n",
    "list1.sort()\n",
    "print(list1)\n",
    "list1.reverse()\n",
    "print(list1)\n",
    "print(\"Second Largest number: \", list1[1])"
   ]
  },
  {
   "cell_type": "markdown",
   "metadata": {},
   "source": [
    "# Question 14\n",
    "Python program to count Even and Odd numbers in a List."
   ]
  },
  {
   "cell_type": "code",
   "execution_count": 135,
   "metadata": {},
   "outputs": [
    {
     "name": "stdout",
     "output_type": "stream",
     "text": [
      "Even Count:  3\n",
      "Odd Count:  3\n"
     ]
    }
   ],
   "source": [
    "def oddEven(list1):\n",
    "    evenCount = 0\n",
    "    oddCount = 0\n",
    "    \n",
    "    for num in list1:\n",
    "        if num % 2 == 0:\n",
    "            evenCount += 1\n",
    "        else:\n",
    "            oddCount += 1\n",
    "    return evenCount, oddCount\n",
    "\n",
    "list1 = [1,2,3,4,5,6]\n",
    "\n",
    "evenCount, oddCount = oddEven(list1)\n",
    "print(\"Even Count: \", evenCount)\n",
    "print(\"Odd Count: \", oddCount)"
   ]
  },
  {
   "cell_type": "markdown",
   "metadata": {},
   "source": [
    "# Question 15\n",
    "Python program to count positive and negative numbers in a list."
   ]
  },
  {
   "cell_type": "code",
   "execution_count": 136,
   "metadata": {},
   "outputs": [
    {
     "name": "stdout",
     "output_type": "stream",
     "text": [
      "Positive:  6\n",
      "Negative:  3\n",
      "Zeroes:  2\n"
     ]
    }
   ],
   "source": [
    "def counting(list1):\n",
    "    posCount = 0;\n",
    "    negCount = 0\n",
    "    zeroes = 0\n",
    "    \n",
    "    for num in list1:\n",
    "        if num > 0:\n",
    "            posCount += 1\n",
    "        elif num < 0:\n",
    "            negCount += 1\n",
    "        elif num == 0:\n",
    "            zeroes += 1\n",
    "            \n",
    "    return posCount, negCount, zeroes\n",
    "\n",
    "list1 = [0,1,2,3,4,5,6,-1,-9,0,-8]\n",
    "\n",
    "posCount, negCount, zeroes = counting(list1)\n",
    "\n",
    "print(\"Positive: \", posCount)\n",
    "print(\"Negative: \", negCount)\n",
    "print(\"Zeroes: \", zeroes)"
   ]
  },
  {
   "cell_type": "markdown",
   "metadata": {},
   "source": [
    "# Question 16\n",
    "Remove multiple elements from a list in Python."
   ]
  },
  {
   "cell_type": "code",
   "execution_count": 137,
   "metadata": {},
   "outputs": [
    {
     "name": "stdout",
     "output_type": "stream",
     "text": [
      "[4, 1, 2, 3]\n"
     ]
    }
   ],
   "source": [
    "list1 = [1,2,3,4,5,1,2,3]\n",
    "for str in list1:\n",
    "    if str in list1:\n",
    "        list1.remove(str)\n",
    "\n",
    "print(list1)"
   ]
  },
  {
   "cell_type": "markdown",
   "metadata": {},
   "source": [
    "# Question 17\n",
    "Program to print duplicates from a list of integers."
   ]
  },
  {
   "cell_type": "code",
   "execution_count": 138,
   "metadata": {},
   "outputs": [
    {
     "name": "stdout",
     "output_type": "stream",
     "text": [
      "[2, 1, 0, 5, 1, 5, 2, 3, 6, 3, 4, 1, 2, 8]\n",
      "Duplicate elements: {1, 2, 3, 5}\n"
     ]
    }
   ],
   "source": [
    "list1 = [2,1,0,5,1,5,2,3,6,3,4,1,2,8]\n",
    "print(list1)\n",
    "seen = set()\n",
    "duplicates = set()\n",
    "for element in list1:\n",
    "    if element in seen:\n",
    "        duplicates.add(element)\n",
    "    seen.add(element)\n",
    "print(\"Duplicate elements:\", duplicates)"
   ]
  }
 ],
 "metadata": {
  "kernelspec": {
   "display_name": "Python 3 (ipykernel)",
   "language": "python",
   "name": "python3"
  },
  "language_info": {
   "codemirror_mode": {
    "name": "ipython",
    "version": 3
   },
   "file_extension": ".py",
   "mimetype": "text/x-python",
   "name": "python",
   "nbconvert_exporter": "python",
   "pygments_lexer": "ipython3",
   "version": "3.11.5"
  }
 },
 "nbformat": 4,
 "nbformat_minor": 2
}
